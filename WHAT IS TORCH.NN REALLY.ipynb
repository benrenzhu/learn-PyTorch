{
 "cells": [
  {
   "cell_type": "markdown",
   "metadata": {},
   "source": [
    "我们将首先在 MNIST 数据集上训练一个基本的神经网络，而不使用已有模型的特征; 我们开始只使用张量最基本的功能，然后逐步从`torch.nn`、 `torch.optim`、 `Dataset` 或 `DataLoader` 中添加特性，依次展示每个部分的功能，以及它如何使代码更简洁或更灵活。"
   ]
  },
  {
   "cell_type": "markdown",
   "metadata": {},
   "source": [
    "## 一、准备 MNIST 数据\n",
    "MINST 数据集由 0-9 的黑白手绘数字组成\n",
    "\n",
    "我们将使用 `pathlib` 处理文件的路径(python3标准库的一部分) ，并使用请求下载数据集。我们只会在用到某个模块时再导入，因此可以观察到我们在每个关键点上都使用了什么。"
   ]
  },
  {
   "cell_type": "code",
   "execution_count": 1,
   "metadata": {},
   "outputs": [],
   "source": [
    "from pathlib import Path\n",
    "import requests\n",
    "\n",
    "DATA_PATH = Path(\"data\")\n",
    "PATH = DATA_PATH / \"mnist\"\n",
    "\n",
    "PATH.mkdir(parents=True, exist_ok=True) # parents ：如果父目录不存在，是否创建父目录。exist_ok：只有在目录不存在时创建目录，目录已存在时不会抛出异常。\n",
    "\n",
    "URL = \"https://github.com/pytorch/tutorials/raw/master/_static/\"\n",
    "FILENAME = \"mnist.pkl.gz\"\n",
    "\n",
    "if not (PATH / FILENAME).exists():\n",
    "    print(URL + FILENAME)\n",
    "    content = requests.get(URL + FILENAME).content\n",
    "    (PATH / FILENAME).open(\"wb\").write(content)"
   ]
  },
  {
   "cell_type": "markdown",
   "metadata": {},
   "source": [
    "此数据集是 numpy 数组格式，并使用 pickle (一种用于序列化数据的 python 特定格式)存储。"
   ]
  },
  {
   "cell_type": "code",
   "execution_count": 2,
   "metadata": {},
   "outputs": [],
   "source": [
    "import pickle\n",
    "import gzip\n",
    "\n",
    "with gzip.open((PATH / FILENAME).as_posix(), \"rb\")as f:\n",
    "    ((x_train, y_train), (x_valid, y_valid), _) = pickle.load(f, encoding=\"latin-1\")"
   ]
  },
  {
   "cell_type": "markdown",
   "metadata": {},
   "source": [
    "每个图像的尺寸是 28 x 28，存储为长度为784的一维数组`numpy.ndarray`。以其中一个为例，我们先把它重塑为二维图像。"
   ]
  },
  {
   "cell_type": "code",
   "execution_count": 3,
   "metadata": {},
   "outputs": [
    {
     "name": "stdout",
     "output_type": "stream",
     "text": [
      "(50000, 784)\n"
     ]
    },
    {
     "data": {
      "image/png": "[encoded data removed]",
      "text/plain": [
       "<Figure size 432x288 with 1 Axes>"
      ]
     },
     "metadata": {
      "needs_background": "light"
     },
     "output_type": "display_data"
    }
   ],
   "source": [
    "from matplotlib import pyplot\n",
    "import numpy as np\n",
    "\n",
    "pyplot.imshow(x_train[0].reshape((28, 28)), cmap=\"gray\")\n",
    "print(x_train.shape)"
   ]
  },
  {
   "cell_type": "markdown",
   "metadata": {},
   "source": [
    "PyTorch 使用的是 `torch.tensor` 而不是 numpy 数组，因此我们需要把数据转换一下"
   ]
  },
  {
   "cell_type": "code",
   "execution_count": 4,
   "metadata": {},
   "outputs": [
    {
     "name": "stdout",
     "output_type": "stream",
     "text": [
      "tensor([[0., 0., 0.,  ..., 0., 0., 0.],\n",
      "        [0., 0., 0.,  ..., 0., 0., 0.],\n",
      "        [0., 0., 0.,  ..., 0., 0., 0.],\n",
      "        ...,\n",
      "        [0., 0., 0.,  ..., 0., 0., 0.],\n",
      "        [0., 0., 0.,  ..., 0., 0., 0.],\n",
      "        [0., 0., 0.,  ..., 0., 0., 0.]]) tensor([5, 0, 4,  ..., 8, 4, 8])\n",
      "torch.Size([50000, 784])\n",
      "tensor(0) tensor(9)\n"
     ]
    }
   ],
   "source": [
    "import torch\n",
    "\n",
    "x_train, y_train, x_valid, y_valid = map(\n",
    "    torch.as_tensor,(x_train, y_train, x_valid, y_valid)\n",
    ")\n",
    "n, c = x_train.shape\n",
    "\n",
    "print(x_train, y_train)\n",
    "print(x_train.shape)\n",
    "print(y_train.min(), y_train.max())"
   ]
  },
  {
   "cell_type": "markdown",
   "metadata": {},
   "source": [
    "## 二、从头构建神经网络(不使用 `torch.nn`)\n",
    "\n",
    "首先，我们只使用 PyTorch 张量操作来创建一个简单的线性模型。  \n",
    "PyTorch 提供了随机或零填充创建张量的方法，我们将使用这些方法为这个模型创建权重 w 和偏差 b。  \n",
    "这些只是普通的张量，还有一个非常特殊的点: 我们告诉 PyTorch 它们需要计算梯度。  \n",
    "这使得 PyTorch 需要记录在张量上执行的所有操作，这样就可以在反向传播过程中自动计算梯度！"
   ]
  },
  {
   "cell_type": "markdown",
   "metadata": {},
   "source": [
    "对于权重，我们在初始化之后设置 `require_grad`，因为我们不希望该步骤包含在梯度的计算中。注意：PyTorch 中的下划线 _ 表示该操作是行内执行的（结果改变原数据）  \n",
    "> 注 我们在这里使用 [Xavier](http://proceedings.mlr.press/v9/glorot10a/glorot10a.pdf) 初始化权重(乘以 $\\frac{1}{\\sqrt{n}}$))。"
   ]
  },
  {
   "cell_type": "code",
   "execution_count": 5,
   "metadata": {},
   "outputs": [],
   "source": [
    "import math\n",
    "\n",
    "weights = torch.randn(784, 10) / math.sqrt(784)\n",
    "weights.requires_grad_()\n",
    "bias = torch.zeros(10, requires_grad=True)"
   ]
  },
  {
   "cell_type": "markdown",
   "metadata": {},
   "source": [
    "多亏了 PyTorch 能够自动计算梯度，我们因此可以使用任何标准的 Python 函数(或可调用对象)作为模型！  \n",
    "所以我们来写一个简单的矩阵乘法创造一个简单的线性模型。我们还需要一个激活函数，所以我们写一个 log_softmax 来用。  \n",
    "请记住: 尽管 PyTorch 提供了许多预先编写的损失函数、激活函数等等，但我们可以很容易地使用 Python 编写自己的函数。PyTorch 甚至可以为你的函数自动创建快速 GPU 或向量化 CPU 代码。"
   ]
  },
  {
   "cell_type": "code",
   "execution_count": 6,
   "metadata": {},
   "outputs": [],
   "source": [
    "def log_softmax(x):\n",
    "    return x - x.exp().sum(-1).log().unsqueeze(-1)\n",
    "\n",
    "def model(xb):\n",
    "    return log_softmax(xb @ weights + bias)"
   ]
  },
  {
   "cell_type": "markdown",
   "metadata": {},
   "source": [
    "在上面的例子中,@代表点积操作。我们将对一批数据(在本例中是64个图像)执行函数。这是一次向前传播。注意，此时我们的预测不会比随机预测更好，因为我们初始的权重是随机数。"
   ]
  },
  {
   "cell_type": "code",
   "execution_count": 7,
   "metadata": {},
   "outputs": [
    {
     "name": "stdout",
     "output_type": "stream",
     "text": [
      "tensor([-1.9393, -2.1730, -2.6403, -2.2938, -2.3437, -3.0033, -2.8421, -2.0438,\n",
      "        -1.7122, -2.8783], grad_fn=<SelectBackward>) torch.Size([64, 10])\n"
     ]
    }
   ],
   "source": [
    "bs = 64 # 一批数据的尺寸: batch size\n",
    "xb = x_train[0:bs] # 来自 x 的一批数据\n",
    "preds = model(xb)\n",
    "print(preds[0], preds.shape)"
   ]
  },
  {
   "cell_type": "markdown",
   "metadata": {},
   "source": [
    "如你所见，`preds` 不仅包含张量的值，还包含一个梯度函数 `grad_fn`。我们以后会用这个来做支撑。  \n",
    "接下来实现一个负对数似然函数作为损失函数（依旧可以使用 Python 代码手动实现）"
   ]
  },
  {
   "cell_type": "code",
   "execution_count": 8,
   "metadata": {},
   "outputs": [],
   "source": [
    "def nll(input, target):\n",
    "    return -input[range(target.shape[0]), target].mean()\n",
    "\n",
    "loss_func = nll"
   ]
  },
  {
   "cell_type": "markdown",
   "metadata": {},
   "source": [
    "用我们的随机模型来检验一下 loss，这样就可以看看 loss 能否在后来的反向传播后得到改善。"
   ]
  },
  {
   "cell_type": "code",
   "execution_count": 9,
   "metadata": {},
   "outputs": [
    {
     "name": "stdout",
     "output_type": "stream",
     "text": [
      "tensor(2.4275, grad_fn=<NegBackward>)\n"
     ]
    }
   ],
   "source": [
    "yb = y_train[0:bs]\n",
    "print(loss_func(preds, yb))"
   ]
  },
  {
   "cell_type": "markdown",
   "metadata": {},
   "source": [
    "下面我们再实现一个计算模型准确性的函数。对于每一次预测，如果最大值与目标值匹配，那么这次预测就是正确的。"
   ]
  },
  {
   "cell_type": "code",
   "execution_count": 10,
   "metadata": {},
   "outputs": [],
   "source": [
    "def accuracy(out, yb):\n",
    "    preds = torch.argmax(out, dim=1)\n",
    "    return  (preds == yb).float().mean()"
   ]
  },
  {
   "cell_type": "markdown",
   "metadata": {},
   "source": [
    " "
   ]
  },
  {
   "cell_type": "markdown",
   "metadata": {},
   "source": [
    "检查一下随机模型的准确性，这样我们就可以看到准确性是否随着 loss 的改善而提高"
   ]
  },
  {
   "cell_type": "code",
   "execution_count": 11,
   "metadata": {},
   "outputs": [
    {
     "name": "stdout",
     "output_type": "stream",
     "text": [
      "tensor(0.0938)\n"
     ]
    }
   ],
   "source": [
    "print(accuracy(preds, yb))"
   ]
  },
  {
   "cell_type": "markdown",
   "metadata": {},
   "source": [
    "现在可以运行一个训练循环，每一次迭代，我们将：  \n",
    " - 选择一小批数据（确定`bs`的大小）\n",
    " - 用模型进行预测\n",
    " - 计算 loss\n",
    " - `loss.backward()`计算模型的梯度，在这个例子中，计算的是`weights`和`bias`的梯度"
   ]
  },
  {
   "cell_type": "markdown",
   "metadata": {},
   "source": [
    "我们通过计算梯度来更新权重和偏差，添加 `torch.no_grad()` 是因为我们不希望这些操作被记录下来用于下一次梯度的计算。你可以在[这里](https://pytorch.org/docs/stable/notes/autograd.html)了解 PyTorch 的 Autograd 是如何记录操作的。  \n",
    "\n",
    "然后，我们将梯度设置为零，以便为下一个循环做好准备。否则，我们的梯度将记录所有操作的记录(例如 `loss.backward()` 将梯度添加到已经存储的内容中，而不是替换它们)。  \n",
    "\n",
    " > 注意：\n",
    "  您可以使用标准 python 调试器单步执行 PyTorch 代码，你可以检查每一步的各种变量值。取消下面的 `set_trace()` 的注释试一下。"
   ]
  },
  {
   "cell_type": "code",
   "execution_count": 12,
   "metadata": {},
   "outputs": [],
   "source": [
    "from IPython.core.debugger import set_trace\n",
    "\n",
    "lr = 0.5  # 学习率\n",
    "epochs = 2  # 训练的轮数\n",
    "\n",
    "for epoch in range(epochs):\n",
    "    for i in range((n - 1) // bs + 1):\n",
    "#         set_trace()\n",
    "        start_i = i * bs\n",
    "        end_i = start_i + bs\n",
    "        xb = x_train[start_i:end_i]\n",
    "        yb = y_train[start_i:end_i]\n",
    "        pred = model(xb)\n",
    "        loss = loss_func(pred, yb)\n",
    "\n",
    "        loss.backward()\n",
    "        with torch.no_grad():\n",
    "            weights -= weights.grad * lr\n",
    "            bias -= bias.grad * lr\n",
    "            weights.grad.zero_()\n",
    "            bias.grad.zero_()"
   ]
  },
  {
   "cell_type": "markdown",
   "metadata": {},
   "source": [
    "搞定：我们完整地创建并训练了一个最小的神经网络(逻辑回归模型，因为没有隐藏层) ！\n",
    "让我们检查一下 loss 和准确度。与之前的结果进行比较，预计损失会减少，准确性会增加。（确实）"
   ]
  },
  {
   "cell_type": "code",
   "execution_count": 13,
   "metadata": {},
   "outputs": [
    {
     "name": "stdout",
     "output_type": "stream",
     "text": [
      "tensor(0.0804, grad_fn=<NegBackward>) tensor(1.)\n"
     ]
    }
   ],
   "source": [
    "print(loss_func(model(xb), yb), accuracy(model(xb), yb))"
   ]
  },
  {
   "cell_type": "markdown",
   "metadata": {},
   "source": [
    "## 三、使用 torch.nn.functional  \n",
    "现在我们来重构刚才的代码，做同样的事情，只是这次用的是 PyTorch 的 `nn` 类来使其更简洁、更灵活。  \n",
    "在现在开始的每个步骤中，我们都尽量让代码变得更短、更容易理解也更灵活。  \n",
    "\n",
    "第一步最简单，通过将手写的激活和损失函数替换为 `torch.nn.functional` 中的函数(约定俗成命名为 `F`)来缩短代码。  \n",
    "这个模块包含` torch.nn` 库中的所有函数。除了广泛使用的损失函数和激活函数之外，你还可以在这里找到一些用于创建神经网络的函数，比如池化函数，还有一些函数用于处理卷积层、线性层等等。  \n",
    "\n",
    "如果你使用负对数似然作为损失函数和 log softmax 作为激活函数，Pytorch 提供了一个专门的函数 `F.cross-entropy` 将两者结合了起来。所以我们可以从之前的模型中移除激活函数。"
   ]
  },
  {
   "cell_type": "code",
   "execution_count": 14,
   "metadata": {},
   "outputs": [],
   "source": [
    "import torch.nn.functional as F\n",
    "\n",
    "loss_func = F.cross_entropy\n",
    "\n",
    "def model(xb):\n",
    "    return xb @ weights + bias"
   ]
  },
  {
   "cell_type": "markdown",
   "metadata": {},
   "source": [
    "注意，我们不再在 `model` 里调用 `log_softmax()` ，我们看看 loss 和准确度是不是没变。"
   ]
  },
  {
   "cell_type": "code",
   "execution_count": 15,
   "metadata": {},
   "outputs": [
    {
     "name": "stdout",
     "output_type": "stream",
     "text": [
      "tensor(0.0804, grad_fn=<NllLossBackward>) tensor(1.)\n"
     ]
    }
   ],
   "source": [
    "print(loss_func(model(xb), yb), accuracy(model(xb), yb))"
   ]
  },
  {
   "cell_type": "markdown",
   "metadata": {},
   "source": [
    "## 四、使用 `nn.Module` 进行重构  \n",
    "\n",
    "下一步，我们将使用 `nn.Module` 和 `nn.Parameter` 来使训练过程更简明。我们把 `nn.Module` （其自身是一个可以追踪状态的类）子类化。  \n",
    "\n",
    "在这个例子中，我们要创建一个类来保存权重和偏差，以及向前传播的方法。我们会用到许多 `nn.Module` 的属性和方法（比如 `.parameters()` 和 `.zero_grad()`）。  \n",
    "\n",
    " > 注意：  \n",
    "  `nn.Model` （M 要大写）是一个 PyTorch 特有的概念，也是我们最常使用的一个类。  \n",
    "  别把它和 Python 中的“模块” `module` 搞混了，后者是一个可以引入的代码文件。"
   ]
  },
  {
   "cell_type": "code",
   "execution_count": 16,
   "metadata": {},
   "outputs": [],
   "source": [
    "from torch import nn\n",
    "\n",
    "class Mnist_logistic(nn.Module):\n",
    "    def __init__(self):\n",
    "        super().__init__()\n",
    "        self.weights = nn.Parameter(torch.randn(784, 10) / math.sqrt(784))\n",
    "        self.bias = nn.Parameter(torch.zeros(10))\n",
    "        \n",
    "    def forward(self, xb):\n",
    "        return xb @ self.weights + self.bias"
   ]
  },
  {
   "cell_type": "markdown",
   "metadata": {},
   "source": [
    "所以我们现在操作的是一个对象，而不仅仅是一个函数了。我们需要先实例化模型："
   ]
  },
  {
   "cell_type": "code",
   "execution_count": 17,
   "metadata": {},
   "outputs": [],
   "source": [
    "model = Mnist_logistic()"
   ]
  },
  {
   "cell_type": "markdown",
   "metadata": {},
   "source": [
    "现在我们可以像往常一样计算 loss。注意 `nn.Module` 对象用起来跟函数一样（都可以调用），但是Pytorch会在后台自动调用 forward 方法。"
   ]
  },
  {
   "cell_type": "code",
   "execution_count": 18,
   "metadata": {},
   "outputs": [
    {
     "name": "stdout",
     "output_type": "stream",
     "text": [
      "tensor(2.3362, grad_fn=<NllLossBackward>)\n"
     ]
    }
   ],
   "source": [
    "print(loss_func(model(xb), yb))"
   ]
  },
  {
   "cell_type": "markdown",
   "metadata": {},
   "source": [
    "在我们之前的训练中，我们要根据名字更新每个参数的值，然后手动把每个参数的梯度清零，像这样：\n",
    "```python\n",
    "with torch.no_grad():\n",
    "    weights -= weights.grad * lr\n",
    "    bias -= bias.grad * lr\n",
    "    weights.grad.zero_()\n",
    "    bias.grad.zero_()\n",
    "```"
   ]
  },
  {
   "cell_type": "markdown",
   "metadata": {},
   "source": [
    "现在我们可以利用 `model.parameters()` 和 `model.zero_grad()` （它们都是由 PyTorch 为 `nn.Module` 定义的）来使这些步骤更简洁，并且不容易出现忘记某些参数的错误，特别是当我们有一个更复杂的模型的时候:  \n",
    "```python\n",
    "with torch.no_grad():\n",
    "    for p in model.parameters(): p -= p.grad * lr\n",
    "    model.zero_grad()\n",
    "```"
   ]
  },
  {
   "cell_type": "markdown",
   "metadata": {},
   "source": [
    "把我们的小训练循环包装在一个 `fit` 函数中，这样后面可以再次运行它。"
   ]
  },
  {
   "cell_type": "code",
   "execution_count": 19,
   "metadata": {},
   "outputs": [],
   "source": [
    "def fit():\n",
    "    for epoch in range(epochs):\n",
    "        for i in range((n -1) // bs + 1):\n",
    "            start_i = i * bs\n",
    "            end_i = start_i + bs\n",
    "            xb = x_train[start_i: end_i]\n",
    "            yb = y_train[start_i: end_i]\n",
    "            pred = model(xb)\n",
    "            loss = loss_func(pred, yb)\n",
    "            \n",
    "            loss.backward()\n",
    "            with torch.no_grad():\n",
    "                for p in model.parameters():\n",
    "                    p -= p.grad * lr\n",
    "                model.zero_grad()"
   ]
  },
  {
   "cell_type": "markdown",
   "metadata": {},
   "source": [
    "我们再确认一下 loss 是不是降低了："
   ]
  },
  {
   "cell_type": "code",
   "execution_count": 20,
   "metadata": {},
   "outputs": [
    {
     "name": "stdout",
     "output_type": "stream",
     "text": [
      "tensor(0.0790, grad_fn=<NllLossBackward>)\n"
     ]
    }
   ],
   "source": [
    "fit()\n",
    "print(loss_func(model(xb), yb))"
   ]
  },
  {
   "cell_type": "markdown",
   "metadata": {},
   "source": [
    "## 五、使用 `nn.Linear` 重构  \n",
    "\n",
    "我们继续重构代码。为了不再手动定义和初始化 `self.weights` 和 `self.bias`，不在手动计算 `xb @ self.weights + self.bias`，我们将使用 Pytorch 类 [`nn.Linear`](https://pytorch.org/docs/stable/nn.html#linear-layers) 的线性层来实现。Pytorch 有许多类型的预定义层，这些层可以极大地简化我们的代码并且通常执行地更快。"
   ]
  },
  {
   "cell_type": "code",
   "execution_count": 21,
   "metadata": {},
   "outputs": [],
   "source": [
    "class Mnist_Logistic(nn.Module):\n",
    "    def __init__(self):\n",
    "        super().__init__()\n",
    "        self.lin = nn.Linear(784, 10)\n",
    "        \n",
    "    def forward(self, xb):\n",
    "        return self.lin(xb)"
   ]
  },
  {
   "cell_type": "markdown",
   "metadata": {},
   "source": [
    "我们实例化模型并用同样的方式计算 loss："
   ]
  },
  {
   "cell_type": "code",
   "execution_count": 22,
   "metadata": {},
   "outputs": [
    {
     "name": "stdout",
     "output_type": "stream",
     "text": [
      "tensor(2.2963, grad_fn=<NllLossBackward>)\n"
     ]
    }
   ],
   "source": [
    "model = Mnist_Logistic()\n",
    "print(loss_func(model(xb), yb))"
   ]
  },
  {
   "cell_type": "markdown",
   "metadata": {},
   "source": [
    "我们依然可以使用之前同样地 `fit` 方法。"
   ]
  },
  {
   "cell_type": "code",
   "execution_count": 23,
   "metadata": {},
   "outputs": [
    {
     "name": "stdout",
     "output_type": "stream",
     "text": [
      "tensor(0.0822, grad_fn=<NllLossBackward>)\n"
     ]
    }
   ],
   "source": [
    "fit()\n",
    "print(loss_func(model(xb), yb))"
   ]
  },
  {
   "cell_type": "markdown",
   "metadata": {},
   "source": [
    "## 六、使用 optim 重构  \n",
    "\n",
    "Pytorch 还有一个包，包含各种优化算法，叫 `torch.optim`。我们可以使用优化器中的 `step` 方法而不必手动更新每个参数。  \n",
    "这样我们就可以替换先前手动优化地步骤：\n",
    "```python\n",
    "with torch.no_grad():\n",
    "    for p in model.parameters():\n",
    "        p -= p.grad * lr\n",
    "    model.zero_grad()\n",
    "```\n",
    "\n",
    "只需：\n",
    "```python\n",
    "opt.step()\n",
    "opt.zero_grad()\n",
    "```  \n",
    "\n",
    "（`optim.zero_grad()` 将梯度重设为0，我们需要在计算下一个小批量的梯度之前调用它。）"
   ]
  },
  {
   "cell_type": "code",
   "execution_count": 24,
   "metadata": {},
   "outputs": [],
   "source": [
    "from torch import optim"
   ]
  },
  {
   "cell_type": "markdown",
   "metadata": {},
   "source": [
    "我们定义一个简单地函数来创建模型和优化器，以便将来重用。"
   ]
  },
  {
   "cell_type": "code",
   "execution_count": 25,
   "metadata": {},
   "outputs": [
    {
     "name": "stdout",
     "output_type": "stream",
     "text": [
      "tensor(2.3174, grad_fn=<NllLossBackward>)\n",
      "tensor(0.0816, grad_fn=<NllLossBackward>)\n"
     ]
    }
   ],
   "source": [
    "def get_model():\n",
    "    model = Mnist_Logistic()\n",
    "    return model, optim.SGD(model.parameters(), lr=lr)\n",
    "\n",
    "model, opt = get_model()\n",
    "print(loss_func(model(xb), yb))\n",
    "\n",
    "for epoch in range(epochs):\n",
    "    for i in range((n - 1) // bs + 1):\n",
    "        start_i = i * bs\n",
    "        end_i = start_i + bs\n",
    "        xb = x_train[start_i:end_i]\n",
    "        yb = y_train[start_i:end_i]\n",
    "        pred = model(xb)\n",
    "        loss = loss_func(pred, yb)\n",
    "        \n",
    "        loss.backward()\n",
    "        opt.step()\n",
    "        opt.zero_grad()\n",
    "        \n",
    "print(loss_func(model(xb), yb))"
   ]
  },
  {
   "cell_type": "markdown",
   "metadata": {},
   "source": [
    "## 七、使用 `Dataset` 重构  \n",
    "\n",
    "PyTorch 有一个抽象的 `Dataset` 类。数据集可以是任何具有 `__len__` 函数(由 Python 的标准 `len` 函数调用)和 `__getitem__` 函数作为其索引方式的函数。  \n",
    "本教程将介绍如何创建自定义 `FacialLandmarkDataset` 类作为 `Dataset` 子类。  \n",
    "\n",
    "PyTorch 的 [`TensorDataset`](https://pytorch.org/docs/stable/_modules/torch/utils/data/dataset.html#TensorDataset) 是一个包装数据集的张量。通过定义长度和索引方式为我们提供一种沿着张量的第一维进行迭代、索引和切片的方法。这使得我们在训练时更容易在一行内获取自变量和因变量。"
   ]
  },
  {
   "cell_type": "code",
   "execution_count": 26,
   "metadata": {},
   "outputs": [],
   "source": [
    "from torch.utils.data import TensorDataset"
   ]
  },
  {
   "cell_type": "markdown",
   "metadata": {},
   "source": [
    "可以将 `x_train` 和 `y_train` 拼在一个 `TensorDataset` 内，这样可以更容易地遍历和切片。"
   ]
  },
  {
   "cell_type": "code",
   "execution_count": 27,
   "metadata": {},
   "outputs": [],
   "source": [
    "train_ds = TensorDataset(x_train, y_train)"
   ]
  },
  {
   "cell_type": "markdown",
   "metadata": {},
   "source": [
    "以前，我们必须分别迭代小批量的 x 和 y 值:\n",
    "```python\n",
    "xb = x_train[start_i:end_i]\n",
    "yb = y_train[start_i:end_i]\n",
    "```  \n",
    "\n",
    "现在我们可以两步并一步:\n",
    "```python\n",
    "xb, yb = train_ds[i*bs: (i+1)*bs]\n",
    "```"
   ]
  },
  {
   "cell_type": "code",
   "execution_count": 28,
   "metadata": {},
   "outputs": [
    {
     "name": "stdout",
     "output_type": "stream",
     "text": [
      "tensor(0.0814, grad_fn=<NllLossBackward>)\n"
     ]
    }
   ],
   "source": [
    "model, opt = get_model()\n",
    "\n",
    "for epoch in range(epochs):\n",
    "    for i in range((n - 1) // bs + 1):\n",
    "        xb, yb = train_ds[i*bs: (i+1)*bs]\n",
    "        pred = model(xb)\n",
    "        loss = loss_func(pred, yb)\n",
    "        \n",
    "        loss.backward()\n",
    "        opt.step()\n",
    "        opt.zero_grad()\n",
    "        \n",
    "print(loss_func(model(xb), yb))"
   ]
  },
  {
   "cell_type": "markdown",
   "metadata": {},
   "source": [
    "## 八、使用 `DataLoader` 重构  \n",
    "  \n",
    "Pytorch 的 `DataLoader` 负责管理批处理。你可以从任何 `Dataset` 创建一个 `DataLoader`。  \n",
    "`DataLoader` 使得在批处理上进行迭代更加容易。不必使用 `train_ds[i*bs: i*b+b]`，`DataLoader` 会自动拆分小批量的数据。"
   ]
  },
  {
   "cell_type": "code",
   "execution_count": 29,
   "metadata": {},
   "outputs": [],
   "source": [
    "from torch.utils.data import DataLoader\n",
    "\n",
    "train_ds = TensorDataset(x_train, y_train)\n",
    "train_dl = DataLoader(train_ds, batch_size=bs)"
   ]
  },
  {
   "cell_type": "markdown",
   "metadata": {},
   "source": [
    "在此之前，我们的循环遍历批处理(xb，yb)如下所示:  \n",
    "```python\n",
    "for i in range((n-1)//bs + 1):\n",
    "    xb,yb = train_ds[i*bs : i*bs+bs]\n",
    "    pred = model(xb)\n",
    "```  \n",
    "\n",
    "现在，我们的循环更加简洁，因为(xb，yb)是从数据加载器自动加载的：\n",
    "```python\n",
    "for xb, yb in train_dl:\n",
    "    pred = model(xb)\n",
    "```"
   ]
  },
  {
   "cell_type": "code",
   "execution_count": 30,
   "metadata": {},
   "outputs": [
    {
     "name": "stdout",
     "output_type": "stream",
     "text": [
      "tensor(0.0811, grad_fn=<NllLossBackward>)\n"
     ]
    }
   ],
   "source": [
    "model, opt = get_model()\n",
    "\n",
    "for epoch in range(epochs):\n",
    "    for xb, yb in train_dl:\n",
    "        pred = model(xb)\n",
    "        loss = loss_func(pred, yb)\n",
    "\n",
    "        loss.backward()\n",
    "        opt.step()\n",
    "        opt.zero_grad()\n",
    "\n",
    "print(loss_func(model(xb), yb))"
   ]
  },
  {
   "cell_type": "markdown",
   "metadata": {},
   "source": [
    "多亏了 Pytorch 的`nn.Module`，`nn.Parameter`、`Dataset` 和 `DataLoader`，我们的训练循环现在明显变小了，而且更容易理解。  \n",
    "现在，让我们尝试添加作为一个有效的模型所必需的基本特性。"
   ]
  },
  {
   "cell_type": "markdown",
   "metadata": {},
   "source": [
    "## 九、添加验证（集）\n",
    "\n",
    "在第1节中，我们只是在训练集上训练模型。实际上，你总得有一个[验证集](https://www.fast.ai/2017/11/13/validation-sets/)，来判断模型是否过拟合。  \n",
    "\n",
    "重新排列训练集的数据对于防止批次之间的相关性和过拟合[非常重要](https://www.quora.com/Does-the-order-of-training-data-matter-when-training-neural-networks)。另一方面，无论是否对验证集进行打乱，验证集的 loss 都是相同的。而打乱数据需要额外的时间，所以打乱**验证集**是没有意义的。  \n",
    "\n",
    "我们设定验证集的批大小是训练集批大小的两倍。这是因为验证集不需要反向传播，因此占用的内存更少(不需要存储梯度)。因此使用更大批量,且计算 loss 更快。"
   ]
  },
  {
   "cell_type": "code",
   "execution_count": 31,
   "metadata": {},
   "outputs": [],
   "source": [
    "train_ds = TensorDataset(x_train, y_train)\n",
    "train_dl = DataLoader(train_ds, batch_size=bs)\n",
    "\n",
    "valid_ds = TensorDataset(x_valid, y_valid)\n",
    "valid_dl = DataLoader(valid_ds, batch_size=bs * 2)"
   ]
  },
  {
   "cell_type": "markdown",
   "metadata": {},
   "source": [
    "我们会在每次遍历结束时计算和打印验证集损失。  \n",
    "\n",
    "(注意，我们总是在训练之前调用 `model.train()` ，在预测之前调用 `model.eval()`，因为它们会些被 `nn.BatchNorm2d ` 和 `nn.Dropout` 这些层用来确保在不同阶段被正确执行)"
   ]
  },
  {
   "cell_type": "code",
   "execution_count": 32,
   "metadata": {},
   "outputs": [
    {
     "name": "stdout",
     "output_type": "stream",
     "text": [
      "0 tensor(0.3084)\n",
      "1 tensor(0.2896)\n"
     ]
    }
   ],
   "source": [
    "model, opt = get_model()\n",
    "\n",
    "for epoch in range(epochs):\n",
    "    model.train()\n",
    "    for xb, yb in train_dl:\n",
    "        pred = model(xb)\n",
    "        loss = loss_func(pred, yb)\n",
    "\n",
    "        loss.backward()\n",
    "        opt.step()\n",
    "        opt.zero_grad()\n",
    "\n",
    "    model.eval()\n",
    "    with torch.no_grad():\n",
    "        valid_loss = sum(loss_func(model(xb), yb) for xb, yb in valid_dl)\n",
    "        \n",
    "    print(epoch, valid_loss / len(valid_dl))"
   ]
  },
  {
   "cell_type": "markdown",
   "metadata": {},
   "source": [
    "## 十、创建 `fit()` 和 `get_data()`  \n",
    "\n",
    "由于我们经历了两次类似的过程——计算训练集和验证集的损失，让我们把它重构为 `loss _ batch`，计算一次批处理的损失。  \n",
    "\n",
    "我们给训练集传入一个优化器来运算向后传播。对于验证集，我们不需要向后传播,所以也不需要优化器。"
   ]
  },
  {
   "cell_type": "code",
   "execution_count": 33,
   "metadata": {},
   "outputs": [],
   "source": [
    "def loss_batch(model, loss_func, xb, yb, opt=None):\n",
    "    loss = loss_func(model(xb), yb)\n",
    "    \n",
    "    if opt is not None:\n",
    "        loss.backward()\n",
    "        opt.step()\n",
    "        opt.zero_grad()\n",
    "        \n",
    "    return loss.item(), len(xb)"
   ]
  },
  {
   "cell_type": "markdown",
   "metadata": {},
   "source": [
    "`fit` 用来运行必要的操作来训练我们的模型并计算每批的训练和验证损失。"
   ]
  },
  {
   "cell_type": "code",
   "execution_count": 34,
   "metadata": {},
   "outputs": [],
   "source": [
    "import numpy as np\n",
    "\n",
    "def fit(epochs, model, loss_func, opt, train_dl, valid_dl):\n",
    "    for epoch in range(epochs):\n",
    "        model.train()\n",
    "        for xb, yb in train_dl:\n",
    "            loss_batch(model, loss_func, xb, yb, opt)\n",
    "            \n",
    "        model.eval()\n",
    "        with torch.no_grad():\n",
    "            losses, nums = zip(\n",
    "            *[loss_batch(model, loss_func, xb, yb) for xb, yb in valid_dl]\n",
    "            )\n",
    "        val_loss = np.sum(np.multiply(losses, nums)) / np.sum(nums)\n",
    "        \n",
    "        print(epoch, val_loss)"
   ]
  },
  {
   "cell_type": "markdown",
   "metadata": {},
   "source": [
    "`get_data` 返回训练集和验证集的数据加载器。"
   ]
  },
  {
   "cell_type": "code",
   "execution_count": 35,
   "metadata": {},
   "outputs": [],
   "source": [
    "def get_data(train_ds, valid_ds, bs):\n",
    "    return (\n",
    "        DataLoader(train_ds, batch_size=bs),\n",
    "        DataLoader(valid_ds, batch_size=bs * 2)\n",
    "    )"
   ]
  },
  {
   "cell_type": "markdown",
   "metadata": {},
   "source": [
    "至此,我们获取数据加载器和拟合模型的过程可以用3行代码完成:"
   ]
  },
  {
   "cell_type": "code",
   "execution_count": 36,
   "metadata": {},
   "outputs": [
    {
     "name": "stdout",
     "output_type": "stream",
     "text": [
      "0 0.3120915981769562\n",
      "1 0.2923691803574562\n"
     ]
    }
   ],
   "source": [
    "train_dl, valid_dl = get_data(train_ds, valid_ds, bs)\n",
    "model, opt = get_model()\n",
    "fit(epochs, model, loss_func, opt, train_dl, valid_dl)"
   ]
  },
  {
   "cell_type": "markdown",
   "metadata": {},
   "source": [
    "你可以使用这 3 行代码来训练各种各样的模型。让我们看看能否用它们来训练一个卷积神经网络！"
   ]
  },
  {
   "cell_type": "markdown",
   "metadata": {},
   "source": [
    "## 十一、切换到卷积神经网络  \n",
    "\n",
    "我们要用三个卷积层构建一个神经网络。因为前一节中的函数都没有关于模型形式的内容，所以我们不用任何修改就可以训练 CNN。  \n",
    "\n",
    "我们将使用 Pytorch 预定义的 [Conv2d]https://pytorch.org/docs/stable/nn.html#torch.nn.Conv2d() 类作为卷积层。我们定义一个具有 3 个卷积层的 CNN。每个卷积后面跟一个 ReLU，最后再进行一次平均池化。(注意，`view` 是 PyTorch 版本的 numpy `reshape`)"
   ]
  },
  {
   "cell_type": "code",
   "execution_count": 37,
   "metadata": {},
   "outputs": [],
   "source": [
    "class Mnist_CNN(nn.Module):\n",
    "    def __init__(self):\n",
    "        super().__init__()\n",
    "        self.conv1 = nn.Conv2d(1, 16, kernel_size=3, stride=2, padding=1)\n",
    "        self.conv2 = nn.Conv2d(16, 16, kernel_size=3, stride=2, padding=1)\n",
    "        self.conv3 = nn.Conv2d(16, 10, kernel_size=3, stride=2, padding=1)\n",
    "\n",
    "    def forward(self, xb):\n",
    "        xb = xb.view(-1, 1, 28, 28)\n",
    "        xb = F.relu(self.conv1(xb))\n",
    "        xb = F.relu(self.conv2(xb))\n",
    "        xb = F.relu(self.conv3(xb))\n",
    "        xb = F.avg_pool2d(xb, 4)\n",
    "        return xb.view(-1, xb.size(1))\n",
    "\n",
    "lr = 0.1"
   ]
  },
  {
   "cell_type": "markdown",
   "metadata": {},
   "source": [
    "[动量](https://cs231n.github.io/neural-networks-3/#sgd)是随机梯度下降的一个变种，它把以前的梯度更新也考虑在内，一般会使训练加快。"
   ]
  },
  {
   "cell_type": "code",
   "execution_count": 38,
   "metadata": {},
   "outputs": [
    {
     "name": "stdout",
     "output_type": "stream",
     "text": [
      "0 0.5321439875125885\n",
      "1 0.26564762756824495\n"
     ]
    }
   ],
   "source": [
    "model = Mnist_CNN()\n",
    "opt = optim.SGD(model.parameters(), lr=lr, momentum=0.9)\n",
    "fit(epochs, model, loss_func, opt, train_dl, valid_dl)"
   ]
  },
  {
   "cell_type": "markdown",
   "metadata": {},
   "source": [
    "## 十二、`nn.Sequential`  \n",
    "\n",
    "`torch.nn` 还有一个方便的类——[`Sequential`](https://pytorch.org/docs/stable/nn.html#torch.nn.Sequential)我们可以用它来简化代码。一个 `Sequential` 对象按顺序运行其中包含的每个模块。  \n",
    "\n",
    "为了利用这一点，我们需要能够轻松地从给定的函数定义一个自定义层。例如，PyTorch 没有 `view` 层，我们需要为网络创建一个。`Lambda`将创建一个可以使用 `Sequential` 定义网络的层。"
   ]
  },
  {
   "cell_type": "code",
   "execution_count": 39,
   "metadata": {},
   "outputs": [],
   "source": [
    "class Lambda(nn.Module):\n",
    "    def __init__(self,func):\n",
    "        super().__init__()\n",
    "        self.func = func\n",
    "        \n",
    "    def forward(self, x):\n",
    "        return self.func(x)\n",
    "    \n",
    "def preprocess(x):\n",
    "    return x.view(-1, 1, 28, 28)"
   ]
  },
  {
   "cell_type": "markdown",
   "metadata": {},
   "source": [
    "用 `Sequential` 创建模型很简单："
   ]
  },
  {
   "cell_type": "code",
   "execution_count": 40,
   "metadata": {},
   "outputs": [
    {
     "name": "stdout",
     "output_type": "stream",
     "text": [
      "0 0.34674787967205045\n",
      "1 0.23097456965446472\n"
     ]
    }
   ],
   "source": [
    "model = nn.Sequential(\n",
    "    Lambda(preprocess),\n",
    "    nn.Conv2d(1, 16, kernel_size=3, stride=2, padding=1),\n",
    "    nn.ReLU(),\n",
    "    nn.Conv2d(16, 16, kernel_size=3, stride=2, padding=1),\n",
    "    nn.ReLU(),\n",
    "    nn.Conv2d(16, 10, kernel_size=3, stride=2, padding=1),\n",
    "    nn.ReLU(),\n",
    "    nn.AvgPool2d(4),\n",
    "    Lambda(lambda x: x.view(x.size(0), -1))\n",
    ")\n",
    "\n",
    "opt = optim.SGD(model.parameters(), lr=lr, momentum=0.9)\n",
    "fit(epochs, model, loss_func, opt, train_dl, valid_dl)"
   ]
  },
  {
   "cell_type": "markdown",
   "metadata": {},
   "source": [
    "## 十三、封装 DataLoader  \n",
    "\n",
    "虽然我们的 CNN 已经很简洁了，但只能工作在 MNIST 上，这是因为：  \n",
    "- 它假设的输入是 28*28 的向量  \n",
    "- 它假设最终的 CNN 的网格大小为4 * 4  \n",
    "\n",
    "让我们去掉这两个假设，这样我们的模型可以适用于任何二维单通道图像。  \n",
    "首先，我们可以移除初始的 Lambda 层，转而将数据预处理移动到一个生成器中："
   ]
  },
  {
   "cell_type": "code",
   "execution_count": 41,
   "metadata": {},
   "outputs": [],
   "source": [
    "def preprocess(x, y):\n",
    "    return x.view(-1, 1, 28, 28), y\n",
    "\n",
    "class WrappedDataLoader:\n",
    "    def __init__(self, dl, func):\n",
    "        self.dl = dl\n",
    "        self.func = func\n",
    "        \n",
    "    def __len__(self):\n",
    "        return len(self.dl)\n",
    "    \n",
    "    def __iter__(self):\n",
    "        batches = iter(self.dl)\n",
    "        for b in batches:\n",
    "            yield (self.func(*b))\n",
    "            \n",
    "train_dl, valid_dl = get_data(train_ds, valid_ds, bs)\n",
    "train_dl = WrappedDataLoader(train_dl, preprocess)\n",
    "valid_dl = WrappedDataLoader(valid_dl, preprocess)"
   ]
  },
  {
   "cell_type": "markdown",
   "metadata": {},
   "source": [
    "接下来，我们可以用 ` nn.AdaptiveAvgPool2d` 替换 `nn.AvgPool2d`，它允许我们定义想要的输出张量的大小。因此，我们的模型将适用于任何大小的输入。"
   ]
  },
  {
   "cell_type": "code",
   "execution_count": 42,
   "metadata": {},
   "outputs": [
    {
     "name": "stdout",
     "output_type": "stream",
     "text": [
      "0 0.4273653765201569\n",
      "1 0.23021787621974946\n"
     ]
    }
   ],
   "source": [
    "model = nn.Sequential(\n",
    "    nn.Conv2d(1, 16, kernel_size=3, stride=2, padding=1),\n",
    "    nn.ReLU(),\n",
    "    nn.Conv2d(16, 16, kernel_size=3, stride=2, padding=1),\n",
    "    nn.ReLU(),\n",
    "    nn.Conv2d(16, 10, kernel_size=3, stride=2, padding=1),\n",
    "    nn.ReLU(),\n",
    "    nn.AdaptiveAvgPool2d(1),\n",
    "    Lambda(lambda x: x.view(x.size(0), -1)),\n",
    ")\n",
    "\n",
    "opt = optim.SGD(model.parameters(), lr=lr, momentum=0.9)\n",
    "fit(epochs, model, loss_func, opt, train_dl, valid_dl)"
   ]
  },
  {
   "cell_type": "markdown",
   "metadata": {},
   "source": [
    "## 十四、使用 GPU  \n",
    "\n",
    "如果你有支持 CUDA 的 GPU，那么可以用 GPU 来加速代码的执行，首先检查一下你的 GPU 支不支持 PyTorch："
   ]
  },
  {
   "cell_type": "code",
   "execution_count": 43,
   "metadata": {},
   "outputs": [
    {
     "name": "stdout",
     "output_type": "stream",
     "text": [
      "True\n"
     ]
    }
   ],
   "source": [
    "print(torch.cuda.is_available())"
   ]
  },
  {
   "cell_type": "markdown",
   "metadata": {},
   "source": [
    "然后创建一个设备对象:"
   ]
  },
  {
   "cell_type": "code",
   "execution_count": 44,
   "metadata": {},
   "outputs": [],
   "source": [
    "dev = torch.device(\"cuda\") if torch.cuda.is_available() else torch.device(\"cpu\")"
   ]
  },
  {
   "cell_type": "markdown",
   "metadata": {},
   "source": [
    "我们更新一下 `preprocess` 把批处理转移到 GPU 上："
   ]
  },
  {
   "cell_type": "code",
   "execution_count": 45,
   "metadata": {},
   "outputs": [],
   "source": [
    "def preprocess(x, y):\n",
    "    return x.view(-1, 1, 28, 28).to(dev), y.to(dev)\n",
    "\n",
    "train_dl, valid_dl = get_data(train_ds, valid_ds, bs)\n",
    "train_dl = WrappedDataLoader(train_dl, preprocess)\n",
    "valid_dl = WrappedDataLoader(valid_dl, preprocess)"
   ]
  },
  {
   "cell_type": "markdown",
   "metadata": {},
   "source": [
    "最后,我们把模型也转移到 GPU 上："
   ]
  },
  {
   "cell_type": "code",
   "execution_count": 46,
   "metadata": {},
   "outputs": [],
   "source": [
    "model.to(dev)\n",
    "opt = optim.SGD(model.parameters(), lr=lr, momentum=0.9)"
   ]
  },
  {
   "cell_type": "markdown",
   "metadata": {},
   "source": [
    "你会发现速度变快了："
   ]
  },
  {
   "cell_type": "code",
   "execution_count": 47,
   "metadata": {},
   "outputs": [
    {
     "name": "stdout",
     "output_type": "stream",
     "text": [
      "0 0.19471970977187156\n",
      "1 0.17603057650327683\n"
     ]
    }
   ],
   "source": [
    "fit(epochs, model, loss_func, opt, train_dl, valid_dl)"
   ]
  },
  {
   "cell_type": "markdown",
   "metadata": {},
   "source": [
    "## 十五、总结  \n",
    "\n",
    "我们现在有了一个通用数据管道和训练循环，你可以使用 PyTorch 来训练各种模型了。  \n",
    "\n",
    "当然，还有很多东西需要添加，比如数据增强、超参数优化、监控训练、迁移学习等等。这些特性可以在 fastai 库中获取，该库是使用本教程中展示的相同设计方法开发的，为希望进拓展他们的模型的从业者提供了更进一步的帮助。  \n",
    "\n",
    "在本教程的开始，我们承诺将通过示例解释 `torch.nn`、 `torch.optim`、 `Dataset` 和 `DataLoader`。那么让我们看看都学到了什么：\n",
    "- torch.nn  \n",
    "    - `Module`:创建一个像函数一样的可调用，但是也可以包含状态(比如神经网络层权重)的对象。它知道它包含哪些`Parameter`，可以将所有的梯度归零，循环遍历参数以进行权重更新等等。  \n",
    "    - `Parameter`:对张量的封装，用来告知一个 `Module` 在反向传播期间需要更新的权重。只有 `requires_grad()=True`的张量才会被更新。  \n",
    "    - `functional`:一个包含激活函数、损失函数等，以及一些无状态的层（如卷积层和线性层）的模块，导入时一般命名为 F。  \n",
    "- `torch.optim`:包含诸如 `SGD` 之类的优化器，这些优化器在反向传播期间更新 `Parameter` 的权重。  \n",
    "- `Dataset`:具有 `__len__` 和 `__getitem__` 的对象的抽象接口，包括像 `TensorDataset` 这种 Pytorch 提供的类。  \n",
    "- `DataLoader`:获取任意 `Dataset` 并创建一个返回批数据的迭代器。"
   ]
  }
 ],
 "metadata": {
  "kernelspec": {
   "display_name": "Python 3",
   "language": "python",
   "name": "python3"
  },
  "language_info": {
   "codemirror_mode": {
    "name": "ipython",
    "version": 3
   },
   "file_extension": ".py",
   "mimetype": "text/x-python",
   "name": "python",
   "nbconvert_exporter": "python",
   "pygments_lexer": "ipython3",
   "version": "3.6.8"
  }
 },
 "nbformat": 4,
 "nbformat_minor": 4
}
