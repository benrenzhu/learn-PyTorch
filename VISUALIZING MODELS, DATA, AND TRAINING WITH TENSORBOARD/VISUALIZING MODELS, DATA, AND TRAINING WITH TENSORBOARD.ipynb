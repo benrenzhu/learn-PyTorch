{
 "cells": [
  {
   "cell_type": "markdown",
   "metadata": {},
   "source": [
    "在 [60分钟闪电战](https://github.com/benrenzhu/learn-PyTorch/blob/master/learn%20pytorch.ipynb)教程里，我们学会了如何载入数据，以及把数据应用到定义为 `nn.Moduel` 的子类构成的模型中。  \n",
    "\n",
    "为了了解详细的过程，我们在训练模型时打印出一些统计数据，以便了解训练的进展。  \n",
    "现在有更好的方法了: PyTorch 与 TensorBoard 集成，后者是一个用于可视化神经网络训练运行结果的工具。本教程说明了它的一部分功能，使用 [Fashion-MNIST](https://github.com/zalandoresearch/fashion-mnist) 数据集，可以通过 *torchvision.datasets* 读入 PyTorch。  \n",
    "\n",
    "在这个教程中，我们将学会：  \n",
    "1. 读入数据并做适当的格式转换（跟前面的教程大致相同）  \n",
    "2. 设置 TensorBoard  \n",
    "3. 编写 TensorBoard  \n",
    "4. 使用 TensorBoard 检查模型架构  \n",
    "5. 使用 TensorBoard 用更少的代码创建上一个教程中可视化的交互式版本  \n",
    "\n",
    "特别的，在第五部分我们可以看到：  \n",
    "- 检察训练数据的几种方法  \n",
    "- 如何在训练过程中追踪模型的性能  \n",
    "- 如何在训练结束后评估模型性能  \n",
    "\n",
    "我们从 [CIFAR-10](https://pytorch.org/tutorials/beginner/blitz/cifar10_tutorial.html) 教程中类似的代码样板为例："
   ]
  },
  {
   "cell_type": "code",
   "execution_count": 1,
   "metadata": {},
   "outputs": [],
   "source": [
    "# 导入需要的模块  \n",
    "import matplotlib.pyplot as plt\n",
    "import numpy as np\n",
    "\n",
    "import torch\n",
    "import torchvision\n",
    "import torchvision.transforms as transforms\n",
    "\n",
    "import torch.nn as nn\n",
    "import torch.nn.functional as F\n",
    "import torch.optim as optim\n",
    "\n",
    "# 格式转换\n",
    "transform = transforms.Compose(\n",
    "    [transforms.ToTensor(),\n",
    "    transforms.Normalize((0.5,), (0.5,))]\n",
    ")\n",
    "\n",
    "# 数据集\n",
    "trainset = torchvision.datasets.FashionMNIST('./data',\n",
    "                                            download=True,\n",
    "                                            train=True,\n",
    "                                            transform=transform)\n",
    "testset = torchvision.datasets.FashionMNIST('./data',\n",
    "                                           download=True,\n",
    "                                           train=False,\n",
    "                                           transform=transform)\n",
    "\n",
    "# 载入数据\n",
    "trainloader = torch.utils.data.DataLoader(trainset, batch_size=4,\n",
    "                                         shuffle=True, num_workers=2)\n",
    "testloader = torch.utils.data.DataLoader(testset, batch_size=4,\n",
    "                                        shuffle=False, num_workers=2)\n",
    "\n",
    "# 数据集包含的类别\n",
    "classes = ('T-shirt/top', 'Trouser', 'Pullover', 'Dress', 'Coat',\n",
    "        'Sandal', 'Shirt', 'Sneaker', 'Bag', 'Ankle Boot')\n",
    "\n",
    "# 辅助函数\n",
    "# 会在'plot_classes_preds'函数中用到\n",
    "def matplotlib_imshow(img, one_channel=False):\n",
    "    if one_channel:\n",
    "        img = img.mean(dim=0)\n",
    "    img = img / 2 + 0.5  # 逆归一化\n",
    "    npimg = img.numpy()\n",
    "    if one_channel:\n",
    "        plt.imshow(npimg, cmap='Greys')\n",
    "    else:\n",
    "        plt.imshow(np.transpose(npimg, (1,2,0)))"
   ]
  },
  {
   "cell_type": "markdown",
   "metadata": {},
   "source": [
    "我们将从该教程中定义一个类似的模型架构，只做一些小的修改。考虑到输入图像的尺寸是单通道 28x28，而不是 3 通道（RGB）32x32:"
   ]
  },
  {
   "cell_type": "code",
   "execution_count": 2,
   "metadata": {},
   "outputs": [],
   "source": [
    "class Net(nn.Module):\n",
    "    def __init__(self):\n",
    "        super(Net, self).__init__()\n",
    "        self.conv1 = nn.Conv2d(1, 6, 5)\n",
    "        self.pool = nn.MaxPool2d(2, 2)\n",
    "        self.conv2 = nn.Conv2d(6, 16, 5)\n",
    "        self.fc1 = nn.Linear(16 * 4 * 4, 120)\n",
    "        self.fc2 = nn.Linear(120, 84)\n",
    "        self.fc3 = nn.Linear(84, 10)\n",
    "        \n",
    "    def forward(self, x):\n",
    "        x = self.pool(F.relu(self.conv1(x)))\n",
    "        x = self.pool(F.relu(self.conv2(x)))\n",
    "        x = x.view(-1, 16 * 4 * 4)\n",
    "        x = F.relu(self.fc1(x))\n",
    "        x = F.relu(self.fc2(x))\n",
    "        x = self.fc3(x)\n",
    "        return x\n",
    "\n",
    "net = Net()"
   ]
  },
  {
   "cell_type": "markdown",
   "metadata": {},
   "source": [
    "定义 `optimizer` 和 `criterion` 分别作为优化器和损失函数"
   ]
  },
  {
   "cell_type": "code",
   "execution_count": 3,
   "metadata": {},
   "outputs": [],
   "source": [
    "optimizer = optim.SGD(net.parameters(), lr=0.001, momentum=0.9)\n",
    "criterion = nn.CrossEntropyLoss()"
   ]
  },
  {
   "cell_type": "markdown",
   "metadata": {},
   "source": [
    "## 1. 设置 TensorBoard  \n",
    "\n",
    "现在我们来设置 TensorBoard，从 `torch.utils` 导入 `TensorBoard`，然后定义 `SummaryWriter`，这是向 TensorBoard 写入信息的关键对象。"
   ]
  },
  {
   "cell_type": "code",
   "execution_count": 4,
   "metadata": {},
   "outputs": [],
   "source": [
    "from torch.utils.tensorboard import SummaryWriter\n",
    "\n",
    "# 默认的 'log_dir' 路径是 'runs'，我们需要明确一下具体的路径\n",
    "writer = SummaryWriter('runs/fashion_mnist_experiment_1')"
   ]
  },
  {
   "cell_type": "markdown",
   "metadata": {},
   "source": [
    "注意，这行代码会在当前目录创建一个叫 `runs/fashion_mnist_experiment_1` 的文件夹"
   ]
  },
  {
   "cell_type": "markdown",
   "metadata": {},
   "source": [
    "## 2. 写入 TensorBoard  \n",
    "\n",
    "现在我们往 TensorBoard 中写入一个图像，具体地说，是写入一个 [make_grid](https://pytorch.org/docs/stable/torchvision/utils.html#torchvision.utils.make_grid) 的网格中。"
   ]
  },
  {
   "cell_type": "code",
   "execution_count": 5,
   "metadata": {},
   "outputs": [
    {
     "data": {
      "image/png": "[encoded data removed]",
      "text/plain": [
       "<Figure size 432x288 with 1 Axes>"
      ]
     },
     "metadata": {
      "needs_background": "light"
     },
     "output_type": "display_data"
    }
   ],
   "source": [
    "# 随机获取一些训练用的图像\n",
    "dataiter = iter(trainloader)\n",
    "images, labels = dataiter.next()\n",
    "\n",
    "# 创建图像网格\n",
    "img_grid = torchvision.utils.make_grid(images)\n",
    "\n",
    "# 预览图像\n",
    "matplotlib_imshow(img_grid, one_channel=True)\n",
    "\n",
    "# 写入 TensorBoard\n",
    "writer.add_image('four_fashion_mnist_images', img_grid)"
   ]
  },
  {
   "cell_type": "markdown",
   "metadata": {},
   "source": [
    "在当前路径打开终端，运行`tensorboard --logdir=runs`，启动 TensorBoard，打开浏览器，打开[https://localhost:6006](https://localhost:6006) ，界面如下：  \n",
    "![4-1.png](./4-1.png)\n",
    "\n",
    "现在你知道如何使用 TensorBoard 了！这个例子还可以在 Jupyter Notebook 中完成 -- 这种交互式可视化环境跟 TensorBoard 最搭。我们将在下面介绍其中一个用法，在教程结束时再多介绍几个。"
   ]
  },
  {
   "cell_type": "markdown",
   "metadata": {},
   "source": [
    "## 3. 使用 TensorBoard 检查模型  \n",
    "\n",
    "TensorBoard 的优势之一就是它拥有可视化复杂模型结构的能力。"
   ]
  },
  {
   "cell_type": "code",
   "execution_count": 6,
   "metadata": {},
   "outputs": [],
   "source": [
    "writer.add_graph(net, images)\n",
    "writer.close()"
   ]
  },
  {
   "cell_type": "markdown",
   "metadata": {},
   "source": [
    "现在刷新 TensorBoard，你会看到一个“GRAPHS”标签，如下所示:  \n",
    "\n",
    "![4-2.png](./4-2.png)  \n",
    "\n",
    "双击“NET”来展开，可以看到组成模型的各个操作的详细视图。  \n",
    "TensorBoard 有一个非常方便的特性——可以将高维数据可视化，比如在低维空间中的图像数据; 我们将在下一节讨论这个问题。"
   ]
  },
  {
   "cell_type": "markdown",
   "metadata": {},
   "source": [
    "## 4. 给 TensorBoard 添加一个“Projector”  \n",
    "\n",
    "通过 [`add_embedding`](https://pytorch.org/docs/stable/tensorboard.html#torch.utils.tensorboard.writer.SummaryWriter.add_embedding) 方法，我们可以直观地看到高维数据的低维表示  \n",
    " > add_embeddings [中文详解](https://www.freesion.com/article/4568905546/)"
   ]
  },
  {
   "cell_type": "code",
   "execution_count": 7,
   "metadata": {},
   "outputs": [],
   "source": [
    "import tensorflow as tf\n",
    "import tensorboard as tb\n",
    "tf.io.gfile = tb.compat.tensorflow_stub.io.gfile\n",
    "\n",
    "# 辅助函数\n",
    "def select_n_random(data, labels, n=100):\n",
    "    '''\n",
    "    从数据集中随机选取 n 对数据和标签\n",
    "    '''\n",
    "    assert len(data) == len(labels)\n",
    "    \n",
    "    perm = torch.randperm(len(data))  # 返回一个0到n-1的一维张量\n",
    "    return data[perm][:n], labels[perm][:n]\n",
    "\n",
    "# 随机选择图像及其标签\n",
    "images, labels = select_n_random(trainset.data, trainset.targets)\n",
    "\n",
    "# 获取每张图像的标签\n",
    "class_labels = [classes[lab] for lab in labels]\n",
    "\n",
    "# 记录嵌入\n",
    "features = images.view(-1, 28 * 28)\n",
    "\n",
    "# mat (torch.Tensor or numpy.array): 一个矩阵，每行代表特征空间的一个数据点（features:二维tensor，每行代表一张照片的特征，其实就是把一张图片的28*28个像素拉平，一张图片就产生了784个特征）\n",
    "# metadata (list or torch.Tensor or numpy.array, optional): 一个一维列表，mat 中每行数据的 label，大小应和 mat 行数相同（metadata:一维列表，代表每张图片的类别，图中不同颜色代表着不同类别） \n",
    "# label_img (torch.Tensor, optional): 一个形如 NxCxHxW 的张量，对应 mat 每一行数据显示出的图像，N 应和 mat 行数相同\n",
    "writer.add_embedding(mat=features,\n",
    "                    metadata=class_labels,\n",
    "                    label_img=images.unsqueeze(1))\n",
    "writer.close()"
   ]
  },
  {
   "cell_type": "markdown",
   "metadata": {},
   "source": [
    "在 TensorBoard 的“Projector”标签中，你可以看到这100张784维的照片被投射到三维空间中。而且是交互式的—— 你可以点击或拖动来旋转三维投影。  \n",
    "为了使可视化更容易看到，这里有几个技巧: 在左上角选择“Color by：label”，以及启用“night mode”，黑色背景会让图像会更容易看清:  \n",
    "\n",
    "![4-3.png](./4-3.png)"
   ]
  },
  {
   "cell_type": "markdown",
   "metadata": {},
   "source": [
    "现在我们已经彻底检查了我们的数据，接下来看看 TensorBoard 如何使跟踪模型的训练和评估更加清晰。  \n",
    "从训练开始："
   ]
  },
  {
   "cell_type": "markdown",
   "metadata": {},
   "source": [
    "## 5. 通过 TensorBoard 追踪模型的训练过程  \n",
    "\n",
    "在前面的例子中，我们只是简单地打印了每2000次迭代的模型的损失（loss）。  \n",
    "现在，我们将把损失记录到 TensorBoard 中，并通过 `plot_classes_preds` 函数对模型进行预测。"
   ]
  },
  {
   "cell_type": "code",
   "execution_count": 8,
   "metadata": {},
   "outputs": [],
   "source": [
    "# 辅助函数  \n",
    "def images_to_probs(net, images):\n",
    "    '''\n",
    "    根据训练好的网络和图像列表生成预测和相应的概率\n",
    "    '''\n",
    "    output = net(images)\n",
    "    # 将输出的概率转换为预测类别\n",
    "    _, preds_tensor = torch.max(output, 1)\n",
    "    preds = np.squeeze(preds_tensor.numpy())\n",
    "    return preds, [F.softmax(el, dim=0)[i].item() for i, el in zip(preds, output)]\n",
    "\n",
    "def plot_classes_preds(net, images, labels):\n",
    "    '''\n",
    "    使用经过训练的网络、来自批处理的图片和标签生成 matplotlib 图像，\n",
    "    它显示了网络的排名前几位的预测值及其概率，\n",
    "    与实际的标签一起，根据预测是否正确来给这些信息着色。\n",
    "    使用“images_to_probs”函数。\n",
    "    '''\n",
    "    preds, probs = images_to_probs(net, images)\n",
    "    # 把这批图像连同预测的和真实的标签一起绘制出来\n",
    "    fig = plt.figure(figsize=(12, 48))\n",
    "    for idx in np.arange(4):\n",
    "        ax = fig.add_subplot(1, 4, idx+1, xticks=[], yticks=[])\n",
    "        matplotlib_imshow(images[idx], one_channel=True)\n",
    "        ax.set_title(\"{0}， {1:.1f}%\\n(label: {2})\".format(\n",
    "        classes[preds[idx]],\n",
    "        probs[idx] * 100.0,\n",
    "        classes[labels[idx]]),\n",
    "                    color=(\"green\" if preds[idx]==labels[idx].item() else \"red\"))\n",
    "    return fig"
   ]
  },
  {
   "cell_type": "markdown",
   "metadata": {},
   "source": [
    "最后，让我们使用前面教程中相同的代码来训练模型，但是每1000个批次将结果写入 TensorBoard，而不打印到控制台; 我们可以用 `add_scalar` 函数完实现。  \n",
    "\n",
    "另外，在训练过程中，我们将生成一张图片，展示模型对这一批四幅图片的预测值和真实值的对比。"
   ]
  },
  {
   "cell_type": "code",
   "execution_count": 9,
   "metadata": {},
   "outputs": [
    {
     "name": "stdout",
     "output_type": "stream",
     "text": [
      "训练结束\n"
     ]
    }
   ],
   "source": [
    "plt.rcParams['font.sans-serif']=['SimHei']  # 用来正常显示中文标签\n",
    "plt.rcParams['axes.unicode_minus']=False  # 用来正常显示负号\n",
    "\n",
    "running_loss = 0.0\n",
    "for epoch in range(1):  # 多次循环数据集\n",
    "    for i, data in enumerate(trainloader, 0):\n",
    "        # 获得输入; 数据集是一个[输入，标签]的列表\n",
    "        inputs, labels = data\n",
    "        \n",
    "        # 把参数的梯度归零\n",
    "        optimizer.zero_grad()\n",
    "        \n",
    "        # 向前、向后传播，优化\n",
    "        outputs = net(inputs)\n",
    "        loss = criterion(outputs, labels)\n",
    "        loss.backward()\n",
    "        optimizer.step()\n",
    "        \n",
    "        running_loss += loss.item()\n",
    "        if i % 1000 == 999:\n",
    "            # 记录损失\n",
    "            writer.add_scalar('training_loss',\n",
    "                             running_loss / 1000,\n",
    "                             epoch * len(trainloader) + i)\n",
    "            \n",
    "            # 记录一个 Matplotlib 图像来显示模型在随机批次上的预测\n",
    "            writer.add_figure('预测 vs. 真实',\n",
    "                             plot_classes_preds(net, inputs, labels),\n",
    "                             global_step=epoch * len(trainloader) + i)\n",
    "            running_loss = 0.0\n",
    "    print('训练结束')"
   ]
  },
  {
   "cell_type": "markdown",
   "metadata": {},
   "source": [
    "> 注，如果遇到“matplotlib Glyph xxxxx missing from current font”的解决方案：  \n",
    "    ```python  \n",
    "    import matplotlib    \n",
    "    print(matplotlib.matplotlib_fname())\n",
    "    ```  \n",
    "    修改matplotlibrc文件，文件位置在上述 print 出来的地址。修改内容：      \n",
    "    去掉前面的#  \n",
    "    font.family         : sans-serif   \n",
    "    去掉前面的#  \n",
    "    font.sans-serif     : Bitstream Vera Sans, Lucida Grande, Verdana, Geneva, Lucid, Arial, Helvetica, Avant Garde, sans-serif  \n",
    "    去掉前面的#，并将True改为False  \n",
    "    axes.unicode_minus  : False         \n",
    "    "
   ]
  },
  {
   "cell_type": "markdown",
   "metadata": {},
   "source": [
    "你现在可以查看\"SCALARS\"标签，看看在15000次迭代训练过程中的损失情况:  \n",
    "![4-4.png](./4-4.png)  \n",
    "\n",
    "此外，我们可以看到在整个学习过程中，模型对任意批次做出的预测。查看“ Images”选项卡，并往下滚动，查看“ 预测 vs. 真实”可视化; 可视化展示了，比如说经过3000次训练迭代，即使它不如在后来的训练中置信度那么高，模型已然能够在视觉上区分不同的类别，如衬衫、运动鞋和外套:  \n",
    "![4-5.png](./4-5.png) \n"
   ]
  },
  {
   "cell_type": "markdown",
   "metadata": {},
   "source": [
    "## 6. 通过 TensorBoard 评估训练好的模型  "
   ]
  },
  {
   "cell_type": "code",
   "execution_count": 10,
   "metadata": {},
   "outputs": [],
   "source": [
    "# 1. 获取测试集大小 乘 种类数量的张量中概率的预测\n",
    "# 2. 获取 test_size 数目 preds 的 张量\n",
    "\n",
    "class_probs = []\n",
    "class_preds = []\n",
    "with torch.no_grad():\n",
    "    for data in testloader:\n",
    "        images, labels = data\n",
    "        output = net(images)\n",
    "        class_probs_batch = [F.softmax(el, dim=0) for el in output]\n",
    "        _, class_preds_batch = torch.max(output, 1)\n",
    "        \n",
    "        class_probs.append(class_probs_batch)\n",
    "        class_preds.append(class_preds_batch)\n",
    "        \n",
    "test_probs = torch.cat([torch.stack(batch) for batch in class_probs])\n",
    "test_preds = torch.cat(class_preds)\n",
    "\n",
    "# 辅助函数\n",
    "def add_pr_curve_tensorboard(class_index, test_probs, test_preds, global_step=0):\n",
    "    '''\n",
    "    接受从0到9的“class_index”并绘制相应的精度-召回曲线\n",
    "    '''\n",
    "    tensorboard_preds = test_preds == class_index\n",
    "    tensorboard_probs = test_probs[:, class_index]\n",
    "    \n",
    "    writer.add_pr_curve(classes[class_index],\n",
    "                       tensorboard_preds,\n",
    "                       tensorboard_probs,\n",
    "                       global_step=global_step)\n",
    "    writer.close()\n",
    "    \n",
    "# 绘制所有的精度-召回曲线\n",
    "for i in range(len(classes)):\n",
    "    add_pr_curve_tensorboard(i, test_probs, test_preds)"
   ]
  },
  {
   "cell_type": "markdown",
   "metadata": {},
   "source": [
    "现在可以看到一个“PR Curves”选项卡，其中包含每个类的精度-查全率曲线。你会看到在一些种类中，模型几乎有100%的“曲线下面积”，而在其他中类中这个面积却更低:\n",
    "![4-6.png](./4-6.png)  \n",
    "\n",
    "这是对 TensorBoard 和 PyTorch 集成的入门。TensorBoard 能做的 Jupyter Notebook 都能做，但是在 TensorBoard 中，你可以直接得到交互式的可视化效果。"
   ]
  }
 ],
 "metadata": {
  "kernelspec": {
   "display_name": "Python 3",
   "language": "python",
   "name": "python3"
  },
  "language_info": {
   "codemirror_mode": {
    "name": "ipython",
    "version": 3
   },
   "file_extension": ".py",
   "mimetype": "text/x-python",
   "name": "python",
   "nbconvert_exporter": "python",
   "pygments_lexer": "ipython3",
   "version": "3.6.8"
  }
 },
 "nbformat": 4,
 "nbformat_minor": 4
}
