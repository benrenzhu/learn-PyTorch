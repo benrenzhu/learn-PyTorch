{
  "nbformat": 4,
  "nbformat_minor": 0,
  "metadata": {
    "kernelspec": {
      "display_name": "Python 3",
      "language": "python",
      "name": "python3"
    },
    "language_info": {
      "codemirror_mode": {
        "name": "ipython",
        "version": 3
      },
      "file_extension": ".py",
      "mimetype": "text/x-python",
      "name": "python",
      "nbconvert_exporter": "python",
      "pygments_lexer": "ipython3",
      "version": "3.6.8"
    },
    "colab": {
      "name": "learn pytorch.ipynb",
      "provenance": [],
      "collapsed_sections": [],
      "toc_visible": true
    },
    "accelerator": "GPU",
    "widgets": {
      "application/vnd.jupyter.widget-state+json": {
        "3c59afeb62da4470a2434126c2dc9601": {
          "model_module": "@jupyter-widgets/controls",
          "model_name": "HBoxModel",
          "state": {
            "_view_name": "HBoxView",
            "_dom_classes": [],
            "_model_name": "HBoxModel",
            "_view_module": "@jupyter-widgets/controls",
            "_model_module_version": "1.5.0",
            "_view_count": null,
            "_view_module_version": "1.5.0",
            "box_style": "",
            "layout": "IPY_MODEL_c7f980312c1c4be1b736095a14a3a813",
            "_model_module": "@jupyter-widgets/controls",
            "children": [
              "IPY_MODEL_1d3aeef9ae6946ababbcde381a192058",
              "IPY_MODEL_c2b2211ff5644aaca256252d66cf9b5a"
            ]
          }
        },
        "c7f980312c1c4be1b736095a14a3a813": {
          "model_module": "@jupyter-widgets/base",
          "model_name": "LayoutModel",
          "state": {
            "_view_name": "LayoutView",
            "grid_template_rows": null,
            "right": null,
            "justify_content": null,
            "_view_module": "@jupyter-widgets/base",
            "overflow": null,
            "_model_module_version": "1.2.0",
            "_view_count": null,
            "flex_flow": null,
            "width": null,
            "min_width": null,
            "border": null,
            "align_items": null,
            "bottom": null,
            "_model_module": "@jupyter-widgets/base",
            "top": null,
            "grid_column": null,
            "overflow_y": null,
            "overflow_x": null,
            "grid_auto_flow": null,
            "grid_area": null,
            "grid_template_columns": null,
            "flex": null,
            "_model_name": "LayoutModel",
            "justify_items": null,
            "grid_row": null,
            "max_height": null,
            "align_content": null,
            "visibility": null,
            "align_self": null,
            "height": null,
            "min_height": null,
            "padding": null,
            "grid_auto_rows": null,
            "grid_gap": null,
            "max_width": null,
            "order": null,
            "_view_module_version": "1.2.0",
            "grid_template_areas": null,
            "object_position": null,
            "object_fit": null,
            "grid_auto_columns": null,
            "margin": null,
            "display": null,
            "left": null
          }
        },
        "1d3aeef9ae6946ababbcde381a192058": {
          "model_module": "@jupyter-widgets/controls",
          "model_name": "FloatProgressModel",
          "state": {
            "_view_name": "ProgressView",
            "style": "IPY_MODEL_dc2cafb927f647e69312a8d919d0a73c",
            "_dom_classes": [],
            "description": "",
            "_model_name": "FloatProgressModel",
            "bar_style": "info",
            "max": 1,
            "_view_module": "@jupyter-widgets/controls",
            "_model_module_version": "1.5.0",
            "value": 1,
            "_view_count": null,
            "_view_module_version": "1.5.0",
            "orientation": "horizontal",
            "min": 0,
            "description_tooltip": null,
            "_model_module": "@jupyter-widgets/controls",
            "layout": "IPY_MODEL_317310ec839b4efb8ec40e9fe1c7eb99"
          }
        },
        "c2b2211ff5644aaca256252d66cf9b5a": {
          "model_module": "@jupyter-widgets/controls",
          "model_name": "HTMLModel",
          "state": {
            "_view_name": "HTMLView",
            "style": "IPY_MODEL_33727089303a4cf28a0ac296e8b42dba",
            "_dom_classes": [],
            "description": "",
            "_model_name": "HTMLModel",
            "placeholder": "​",
            "_view_module": "@jupyter-widgets/controls",
            "_model_module_version": "1.5.0",
            "value": " 170500096/? [00:30&lt;00:00, 16607759.20it/s]",
            "_view_count": null,
            "_view_module_version": "1.5.0",
            "description_tooltip": null,
            "_model_module": "@jupyter-widgets/controls",
            "layout": "IPY_MODEL_861105c4dc2f421d854682663afe124d"
          }
        },
        "dc2cafb927f647e69312a8d919d0a73c": {
          "model_module": "@jupyter-widgets/controls",
          "model_name": "ProgressStyleModel",
          "state": {
            "_view_name": "StyleView",
            "_model_name": "ProgressStyleModel",
            "description_width": "initial",
            "_view_module": "@jupyter-widgets/base",
            "_model_module_version": "1.5.0",
            "_view_count": null,
            "_view_module_version": "1.2.0",
            "bar_color": null,
            "_model_module": "@jupyter-widgets/controls"
          }
        },
        "317310ec839b4efb8ec40e9fe1c7eb99": {
          "model_module": "@jupyter-widgets/base",
          "model_name": "LayoutModel",
          "state": {
            "_view_name": "LayoutView",
            "grid_template_rows": null,
            "right": null,
            "justify_content": null,
            "_view_module": "@jupyter-widgets/base",
            "overflow": null,
            "_model_module_version": "1.2.0",
            "_view_count": null,
            "flex_flow": null,
            "width": null,
            "min_width": null,
            "border": null,
            "align_items": null,
            "bottom": null,
            "_model_module": "@jupyter-widgets/base",
            "top": null,
            "grid_column": null,
            "overflow_y": null,
            "overflow_x": null,
            "grid_auto_flow": null,
            "grid_area": null,
            "grid_template_columns": null,
            "flex": null,
            "_model_name": "LayoutModel",
            "justify_items": null,
            "grid_row": null,
            "max_height": null,
            "align_content": null,
            "visibility": null,
            "align_self": null,
            "height": null,
            "min_height": null,
            "padding": null,
            "grid_auto_rows": null,
            "grid_gap": null,
            "max_width": null,
            "order": null,
            "_view_module_version": "1.2.0",
            "grid_template_areas": null,
            "object_position": null,
            "object_fit": null,
            "grid_auto_columns": null,
            "margin": null,
            "display": null,
            "left": null
          }
        },
        "33727089303a4cf28a0ac296e8b42dba": {
          "model_module": "@jupyter-widgets/controls",
          "model_name": "DescriptionStyleModel",
          "state": {
            "_view_name": "StyleView",
            "_model_name": "DescriptionStyleModel",
            "description_width": "",
            "_view_module": "@jupyter-widgets/base",
            "_model_module_version": "1.5.0",
            "_view_count": null,
            "_view_module_version": "1.2.0",
            "_model_module": "@jupyter-widgets/controls"
          }
        },
        "861105c4dc2f421d854682663afe124d": {
          "model_module": "@jupyter-widgets/base",
          "model_name": "LayoutModel",
          "state": {
            "_view_name": "LayoutView",
            "grid_template_rows": null,
            "right": null,
            "justify_content": null,
            "_view_module": "@jupyter-widgets/base",
            "overflow": null,
            "_model_module_version": "1.2.0",
            "_view_count": null,
            "flex_flow": null,
            "width": null,
            "min_width": null,
            "border": null,
            "align_items": null,
            "bottom": null,
            "_model_module": "@jupyter-widgets/base",
            "top": null,
            "grid_column": null,
            "overflow_y": null,
            "overflow_x": null,
            "grid_auto_flow": null,
            "grid_area": null,
            "grid_template_columns": null,
            "flex": null,
            "_model_name": "LayoutModel",
            "justify_items": null,
            "grid_row": null,
            "max_height": null,
            "align_content": null,
            "visibility": null,
            "align_self": null,
            "height": null,
            "min_height": null,
            "padding": null,
            "grid_auto_rows": null,
            "grid_gap": null,
            "max_width": null,
            "order": null,
            "_view_module_version": "1.2.0",
            "grid_template_areas": null,
            "object_position": null,
            "object_fit": null,
            "grid_auto_columns": null,
            "margin": null,
            "display": null,
            "left": null
          }
        }
      }
    }
  },
  "cells": [
    {
      "cell_type": "markdown",
      "metadata": {
        "id": "r86I4YdNj9Np"
      },
      "source": [
        "# 一、开始"
      ]
    },
    {
      "cell_type": "markdown",
      "metadata": {
        "id": "zkMystwqj9Nq"
      },
      "source": [
        "## 1. 张量/Tensors"
      ]
    },
    {
      "cell_type": "markdown",
      "metadata": {
        "id": "QKTpmgL2j9Nq"
      },
      "source": [
        "张量类似于 NumPy 的 ndarrays，此外，张量还可以用于 GPU 来加速计算。  \n",
        "注：张量/tensor 可以简化理解为（多维）数组"
      ]
    },
    {
      "cell_type": "code",
      "metadata": {
        "id": "LKg3VZimj9Nr"
      },
      "source": [
        "from __future__ import print_function #为了可以使用后续版本的特性\n",
        "import torch"
      ],
      "execution_count": 1,
      "outputs": []
    },
    {
      "cell_type": "markdown",
      "metadata": {
        "id": "KEGHCiqFj9Nt"
      },
      "source": [
        "#### 1. 构造一个未初始化的 5*3 矩阵"
      ]
    },
    {
      "cell_type": "code",
      "metadata": {
        "id": "gKMuCLMUj9Nu",
        "outputId": "1e1fcbc0-00b1-461b-c524-bc5084771cb6",
        "colab": {
          "base_uri": "https://localhost:8080/",
          "height": 102
        }
      },
      "source": [
        "x = torch.empty(5, 3) #空矩阵不是零矩阵，所以输出不一定是全 0\n",
        "print(x)"
      ],
      "execution_count": 2,
      "outputs": [
        {
          "output_type": "stream",
          "text": [
            "tensor([[1.2507e-37, 0.0000e+00, 3.3631e-44],\n",
            "        [0.0000e+00,        nan, 0.0000e+00],\n",
            "        [1.1578e+27, 1.1362e+30, 7.1547e+22],\n",
            "        [4.5828e+30, 1.2121e+04, 7.1846e+22],\n",
            "        [9.2198e-39, 7.0374e+22, 1.8522e-36]])\n"
          ],
          "name": "stdout"
        }
      ]
    },
    {
      "cell_type": "markdown",
      "metadata": {
        "id": "_sRNtL5Pj9Nw"
      },
      "source": [
        "#### 2. 构造一个随机初始化的 5*3 矩阵"
      ]
    },
    {
      "cell_type": "code",
      "metadata": {
        "id": "DRzLVUPoj9Nx",
        "outputId": "6a8641c2-6f74-4145-a5cd-d3dea9c85788",
        "colab": {
          "base_uri": "https://localhost:8080/",
          "height": 102
        }
      },
      "source": [
        "x = torch.rand(5, 3)\n",
        "print(x)"
      ],
      "execution_count": 3,
      "outputs": [
        {
          "output_type": "stream",
          "text": [
            "tensor([[0.4299, 0.3616, 0.7879],\n",
            "        [0.3195, 0.9413, 0.4233],\n",
            "        [0.3834, 0.6309, 0.9046],\n",
            "        [0.0436, 0.2776, 0.3971],\n",
            "        [0.5734, 0.1944, 0.2307]])\n"
          ],
          "name": "stdout"
        }
      ]
    },
    {
      "cell_type": "markdown",
      "metadata": {
        "id": "rSY9reclj9Ny"
      },
      "source": [
        "#### 3. 构造一个数据类型为 long 的 5*3 矩阵"
      ]
    },
    {
      "cell_type": "code",
      "metadata": {
        "id": "Fg5eUw7uj9Nz",
        "outputId": "6ec36ac7-937f-41d7-e973-a40435605e85",
        "colab": {
          "base_uri": "https://localhost:8080/",
          "height": 102
        }
      },
      "source": [
        "x = torch.zeros(5, 3, dtype = torch.long)\n",
        "print(x)"
      ],
      "execution_count": 4,
      "outputs": [
        {
          "output_type": "stream",
          "text": [
            "tensor([[0, 0, 0],\n",
            "        [0, 0, 0],\n",
            "        [0, 0, 0],\n",
            "        [0, 0, 0],\n",
            "        [0, 0, 0]])\n"
          ],
          "name": "stdout"
        }
      ]
    },
    {
      "cell_type": "markdown",
      "metadata": {
        "id": "Awfi4Lxgj9N1"
      },
      "source": [
        "#### 4. 直接用数据构造张量（tensor）"
      ]
    },
    {
      "cell_type": "code",
      "metadata": {
        "id": "4J6MYSqij9N1",
        "outputId": "55d683da-9480-4e0e-bcd6-a05808eb498a",
        "colab": {
          "base_uri": "https://localhost:8080/",
          "height": 34
        }
      },
      "source": [
        "x = torch.tensor([5.5, 3])\n",
        "print(x)"
      ],
      "execution_count": 5,
      "outputs": [
        {
          "output_type": "stream",
          "text": [
            "tensor([5.5000, 3.0000])\n"
          ],
          "name": "stdout"
        }
      ]
    },
    {
      "cell_type": "markdown",
      "metadata": {
        "id": "-ZRO_U9Xj9N8"
      },
      "source": [
        "#### 5. 创建一个基于现有张量的张量，以下方法会重新使用原 tensor 的属性，如：dtype，除非用户提供新的数据（给这个新张量）"
      ]
    },
    {
      "cell_type": "code",
      "metadata": {
        "id": "tPU1pavIj9N9",
        "outputId": "01c54903-254c-4b2d-a0bf-48e6a854c81c",
        "colab": {
          "base_uri": "https://localhost:8080/",
          "height": 187
        }
      },
      "source": [
        "x = x.new_ones(5, 3, dtype = torch.double)\n",
        "print(x)\n",
        "\n",
        "x = torch.randn_like(x, dtype = torch.float)\n",
        "print(x)"
      ],
      "execution_count": 6,
      "outputs": [
        {
          "output_type": "stream",
          "text": [
            "tensor([[1., 1., 1.],\n",
            "        [1., 1., 1.],\n",
            "        [1., 1., 1.],\n",
            "        [1., 1., 1.],\n",
            "        [1., 1., 1.]], dtype=torch.float64)\n",
            "tensor([[ 0.3553,  0.3781,  0.8632],\n",
            "        [-1.1604,  1.4840, -0.2219],\n",
            "        [ 1.0562, -1.5527,  1.4819],\n",
            "        [ 0.5600,  0.6561, -1.7974],\n",
            "        [-0.5114, -2.0793,  0.8489]])\n"
          ],
          "name": "stdout"
        }
      ]
    },
    {
      "cell_type": "markdown",
      "metadata": {
        "id": "IWxBMulfj9OA"
      },
      "source": [
        "#### 6. 获取张量的尺寸"
      ]
    },
    {
      "cell_type": "code",
      "metadata": {
        "id": "kMlqa_uKj9OB",
        "outputId": "8172a279-3482-4da4-d633-a86cf93e5917",
        "colab": {
          "base_uri": "https://localhost:8080/",
          "height": 34
        }
      },
      "source": [
        "print(x.size())"
      ],
      "execution_count": 7,
      "outputs": [
        {
          "output_type": "stream",
          "text": [
            "torch.Size([5, 3])\n"
          ],
          "name": "stdout"
        }
      ]
    },
    {
      "cell_type": "markdown",
      "metadata": {
        "id": "oVOtWdwmj9OD"
      },
      "source": [
        "> torch.Size 是一个元组，因此支持所有元组的操作"
      ]
    },
    {
      "cell_type": "markdown",
      "metadata": {
        "id": "f0KlVXtSj9OE"
      },
      "source": [
        "## 2. 操作/Operations"
      ]
    },
    {
      "cell_type": "markdown",
      "metadata": {
        "id": "35OigM5Hj9OE"
      },
      "source": [
        "### 增加/add"
      ]
    },
    {
      "cell_type": "markdown",
      "metadata": {
        "id": "P-BsjR3Bj9OF"
      },
      "source": [
        "#### 1. add：语法1"
      ]
    },
    {
      "cell_type": "code",
      "metadata": {
        "id": "Pfzn3Uykj9OF",
        "outputId": "693b35c8-a56e-461a-de4c-1edb12c010c1",
        "colab": {
          "base_uri": "https://localhost:8080/",
          "height": 102
        }
      },
      "source": [
        "y = torch.rand(5, 3)\n",
        "print(x + y)"
      ],
      "execution_count": 8,
      "outputs": [
        {
          "output_type": "stream",
          "text": [
            "tensor([[ 1.1391,  1.2617,  1.2333],\n",
            "        [-0.2070,  2.4808,  0.7156],\n",
            "        [ 1.6446, -1.0753,  2.1425],\n",
            "        [ 0.7132,  0.7827, -1.1029],\n",
            "        [ 0.1694, -1.8328,  0.9820]])\n"
          ],
          "name": "stdout"
        }
      ]
    },
    {
      "cell_type": "markdown",
      "metadata": {
        "id": "wA6WddDcj9OH"
      },
      "source": [
        "#### 2. add：语法2"
      ]
    },
    {
      "cell_type": "code",
      "metadata": {
        "id": "Bw5aLreSj9OI",
        "outputId": "3ea3b309-aba8-4833-ae34-161aec6caad6",
        "colab": {
          "base_uri": "https://localhost:8080/",
          "height": 102
        }
      },
      "source": [
        "print(torch.add(x, y))"
      ],
      "execution_count": 9,
      "outputs": [
        {
          "output_type": "stream",
          "text": [
            "tensor([[ 1.1391,  1.2617,  1.2333],\n",
            "        [-0.2070,  2.4808,  0.7156],\n",
            "        [ 1.6446, -1.0753,  2.1425],\n",
            "        [ 0.7132,  0.7827, -1.1029],\n",
            "        [ 0.1694, -1.8328,  0.9820]])\n"
          ],
          "name": "stdout"
        }
      ]
    },
    {
      "cell_type": "markdown",
      "metadata": {
        "id": "hDtbRjrcj9OK"
      },
      "source": [
        "#### 3. add：提供一个用于输出的张量作为参数"
      ]
    },
    {
      "cell_type": "code",
      "metadata": {
        "id": "ZNfI2QfQj9OK",
        "outputId": "92376332-f237-4709-98d3-f8bd2d432db9",
        "colab": {
          "base_uri": "https://localhost:8080/",
          "height": 102
        }
      },
      "source": [
        "result = torch.empty(5, 3)\n",
        "torch.add(x, y, out = result)\n",
        "print(result)"
      ],
      "execution_count": 10,
      "outputs": [
        {
          "output_type": "stream",
          "text": [
            "tensor([[ 1.1391,  1.2617,  1.2333],\n",
            "        [-0.2070,  2.4808,  0.7156],\n",
            "        [ 1.6446, -1.0753,  2.1425],\n",
            "        [ 0.7132,  0.7827, -1.1029],\n",
            "        [ 0.1694, -1.8328,  0.9820]])\n"
          ],
          "name": "stdout"
        }
      ]
    },
    {
      "cell_type": "markdown",
      "metadata": {
        "id": "FOXBfx5xj9OM"
      },
      "source": [
        "#### 4. add：原地操作/in-place（不使用额外的变量）"
      ]
    },
    {
      "cell_type": "code",
      "metadata": {
        "id": "GTRFaPgBj9ON",
        "outputId": "21ac2e41-d59e-4cf0-b5bf-e03f3beba791",
        "colab": {
          "base_uri": "https://localhost:8080/",
          "height": 102
        }
      },
      "source": [
        "y.add_(x)\n",
        "print(y)"
      ],
      "execution_count": 11,
      "outputs": [
        {
          "output_type": "stream",
          "text": [
            "tensor([[ 1.1391,  1.2617,  1.2333],\n",
            "        [-0.2070,  2.4808,  0.7156],\n",
            "        [ 1.6446, -1.0753,  2.1425],\n",
            "        [ 0.7132,  0.7827, -1.1029],\n",
            "        [ 0.1694, -1.8328,  0.9820]])\n"
          ],
          "name": "stdout"
        }
      ]
    },
    {
      "cell_type": "markdown",
      "metadata": {
        "id": "nZXY1CnCj9OP"
      },
      "source": [
        "> <span id='actions_'>任何**原地**改变张量的操作都带有后缀`_`，如`x.copy_(y)`，`x.t_()`，这会改变 x 原本的值。</span>"
      ]
    },
    {
      "cell_type": "markdown",
      "metadata": {
        "id": "OJ_tyFm_j9OQ"
      },
      "source": [
        "#### 5. 可以使用标准的 NumPy 索引和其他的各种功能"
      ]
    },
    {
      "cell_type": "code",
      "metadata": {
        "id": "iwA0u7Y5j9OQ",
        "outputId": "f7c3be51-7678-4aa4-85eb-cce41f5a0608",
        "colab": {
          "base_uri": "https://localhost:8080/",
          "height": 34
        }
      },
      "source": [
        "print(x[:, 1])\n",
        "#输出 x 的第 1 列（从 0 开始）"
      ],
      "execution_count": 12,
      "outputs": [
        {
          "output_type": "stream",
          "text": [
            "tensor([ 0.3781,  1.4840, -1.5527,  0.6561, -2.0793])\n"
          ],
          "name": "stdout"
        }
      ]
    },
    {
      "cell_type": "markdown",
      "metadata": {
        "id": "OdFBWhndj9OS"
      },
      "source": [
        "### 改变尺寸/resize/reshape"
      ]
    },
    {
      "cell_type": "markdown",
      "metadata": {
        "id": "eywW4BcKj9OT"
      },
      "source": [
        "#### 1. 如果需要改变张量的尺寸，可以使用 `torch.view`"
      ]
    },
    {
      "cell_type": "code",
      "metadata": {
        "id": "KqD_uCa5j9OT",
        "outputId": "ec82ca7f-19c7-4da2-d883-ea67bfa53385",
        "colab": {
          "base_uri": "https://localhost:8080/",
          "height": 34
        }
      },
      "source": [
        "x = torch.randn(4, 4)              #randn 随机的正态分布\n",
        "y = x.view(16)                     #非 16 会 invalid\n",
        "z = x.view(-1, 8)\n",
        "print(x.size(), y.size(), z.size())"
      ],
      "execution_count": 13,
      "outputs": [
        {
          "output_type": "stream",
          "text": [
            "torch.Size([4, 4]) torch.Size([16]) torch.Size([2, 8])\n"
          ],
          "name": "stdout"
        }
      ]
    },
    {
      "cell_type": "markdown",
      "metadata": {
        "id": "WC8zRVy9j9OV"
      },
      "source": [
        "#### 2. 如果你有一个 1 元素的张量，通过 `.item()` 可以获取到元素的值"
      ]
    },
    {
      "cell_type": "code",
      "metadata": {
        "id": "Ft7OlHGtj9OW",
        "outputId": "832e930c-9395-4e84-c3b2-94baf6207b63",
        "colab": {
          "base_uri": "https://localhost:8080/",
          "height": 51
        }
      },
      "source": [
        "x = torch.randn(1)\n",
        "print(x)\n",
        "print(x.item())    #只有一个元素的张量才可以用.item，返回值是一个 number"
      ],
      "execution_count": 14,
      "outputs": [
        {
          "output_type": "stream",
          "text": [
            "tensor([-0.1328])\n",
            "-0.1327889859676361\n"
          ],
          "name": "stdout"
        }
      ]
    },
    {
      "cell_type": "markdown",
      "metadata": {
        "id": "c5Cfj5uVj9OY"
      },
      "source": [
        "### 更多 tensor 的操作，包括置换、索引、切片、数学运算、线性代数、随机数等等，可以参考[文档](https://pytorch.org/docs/torch)"
      ]
    },
    {
      "cell_type": "markdown",
      "metadata": {
        "id": "eHZn6cHAj9OZ"
      },
      "source": [
        "---"
      ]
    },
    {
      "cell_type": "markdown",
      "metadata": {
        "id": "Gd5sttmLj9OZ"
      },
      "source": [
        "## 3. 与 NumPy 的互动"
      ]
    },
    {
      "cell_type": "markdown",
      "metadata": {
        "id": "gFGGH5OMj9OZ"
      },
      "source": [
        "Torch 的张量和 NumPy 的数组将共享它们的内存地址(如果 Torch 张量存在于 CPU 上) ，更改其中一个将另一个也会改变。"
      ]
    },
    {
      "cell_type": "markdown",
      "metadata": {
        "id": "HyDvvdLCj9Oa"
      },
      "source": [
        "### 将 Torch 张量转换为 NumPy 数组：Tensor → Array"
      ]
    },
    {
      "cell_type": "code",
      "metadata": {
        "id": "5HDZQgfUj9Oa",
        "outputId": "e5e89f49-7d0b-4698-aed5-b069b689902a",
        "colab": {
          "base_uri": "https://localhost:8080/",
          "height": 51
        }
      },
      "source": [
        "a = torch.ones(5)\n",
        "b = a.numpy()\n",
        "print(a)\n",
        "print(b)"
      ],
      "execution_count": 15,
      "outputs": [
        {
          "output_type": "stream",
          "text": [
            "tensor([1., 1., 1., 1., 1.])\n",
            "[1. 1. 1. 1. 1.]\n"
          ],
          "name": "stdout"
        }
      ]
    },
    {
      "cell_type": "markdown",
      "metadata": {
        "id": "hpQzDLg8j9Od"
      },
      "source": [
        "看看 numpy 数组的值是如何改变的"
      ]
    },
    {
      "cell_type": "code",
      "metadata": {
        "id": "1AOa2pA2j9Od",
        "outputId": "636f74cb-8c24-4e39-fd27-c437f0add50e",
        "colab": {
          "base_uri": "https://localhost:8080/",
          "height": 51
        }
      },
      "source": [
        "a.add_(1) \n",
        "print(a)\n",
        "print(b)"
      ],
      "execution_count": 16,
      "outputs": [
        {
          "output_type": "stream",
          "text": [
            "tensor([2., 2., 2., 2., 2.])\n",
            "[2. 2. 2. 2. 2.]\n"
          ],
          "name": "stdout"
        }
      ]
    },
    {
      "cell_type": "markdown",
      "metadata": {
        "id": "DqCHj0Qnj9Of"
      },
      "source": [
        "> `add_` 为什么有 `_` 参考[这里](#actions_)"
      ]
    },
    {
      "cell_type": "markdown",
      "metadata": {
        "id": "JsGDLVxIj9Og"
      },
      "source": [
        "### 将 NumPy 数组转换为 Torch 张量"
      ]
    },
    {
      "cell_type": "code",
      "metadata": {
        "id": "AwRwjxlsj9Og",
        "outputId": "b959b864-116f-4eba-a897-51f9eade6c08",
        "colab": {
          "base_uri": "https://localhost:8080/",
          "height": 51
        }
      },
      "source": [
        "import numpy as np\n",
        "a = np.ones(5)\n",
        "b = torch.from_numpy(a)\n",
        "np.add(a, 1, out = a)    #如果 out = b 会报错：返回值必须是（numpy 的）ArrayType\n",
        "print(a)\n",
        "print(b)"
      ],
      "execution_count": 17,
      "outputs": [
        {
          "output_type": "stream",
          "text": [
            "[2. 2. 2. 2. 2.]\n",
            "tensor([2., 2., 2., 2., 2.], dtype=torch.float64)\n"
          ],
          "name": "stdout"
        }
      ]
    },
    {
      "cell_type": "markdown",
      "metadata": {
        "id": "4oBBDO5Uj9Oi"
      },
      "source": [
        "所有 CPU 上的张量，除了 CharTensor，都支持与 NumPy 互相转换。"
      ]
    },
    {
      "cell_type": "markdown",
      "metadata": {
        "id": "nCE71HATj9Oi"
      },
      "source": [
        "---"
      ]
    },
    {
      "cell_type": "markdown",
      "metadata": {
        "id": "_tvJ_gkNj9Oj"
      },
      "source": [
        "## 4. CUDA 张量"
      ]
    },
    {
      "cell_type": "markdown",
      "metadata": {
        "id": "3DZEVntyj9Oj"
      },
      "source": [
        "张量可通过 `.to` 转移到任何设备上"
      ]
    },
    {
      "cell_type": "code",
      "metadata": {
        "id": "bVSTrQvlj9Ok",
        "outputId": "5dd3f559-c0f1-46f9-8a58-9bc05209c9cb",
        "colab": {
          "base_uri": "https://localhost:8080/",
          "height": 187
        }
      },
      "source": [
        "# 仅在有 CUDA 设备时可运行\n",
        "# 通过 torch.device 对象将张量放入/移出 GPU\n",
        "x = torch.randn(5, 3)\n",
        "if torch.cuda.is_available():\n",
        "    device = torch.device(\"cuda\")          # 一个 CUDA 设备的对象\n",
        "    y = torch.ones_like(x, device=device)  # 直接在 GPU 上新建一个张量\n",
        "    x = x.to(device)                       # 或者通过'to(\"cuda\")'转移到 GPU 上\n",
        "    z = x + y\n",
        "    print(z)\n",
        "    print(z.to(\"cpu\", torch.double))       # '.to' 可以同时修改 dtype!"
      ],
      "execution_count": 18,
      "outputs": [
        {
          "output_type": "stream",
          "text": [
            "tensor([[ 0.7431,  0.3582,  1.8264],\n",
            "        [ 2.8742,  0.8094,  0.8129],\n",
            "        [ 3.1639,  1.6480, -0.2582],\n",
            "        [ 0.1616, -0.1080, -0.8533],\n",
            "        [-0.7920,  1.1569,  0.2510]], device='cuda:0')\n",
            "tensor([[ 0.7431,  0.3582,  1.8264],\n",
            "        [ 2.8742,  0.8094,  0.8129],\n",
            "        [ 3.1639,  1.6480, -0.2582],\n",
            "        [ 0.1616, -0.1080, -0.8533],\n",
            "        [-0.7920,  1.1569,  0.2510]], dtype=torch.float64)\n"
          ],
          "name": "stdout"
        }
      ]
    },
    {
      "cell_type": "markdown",
      "metadata": {
        "id": "89Sn3zTTj9Om"
      },
      "source": [
        "  "
      ]
    },
    {
      "cell_type": "markdown",
      "metadata": {
        "id": "qBEQilUPj9Om"
      },
      "source": [
        "  # 二、AUTOGRAD：自动微分/AUTOMATIC DIFFERENTIATION"
      ]
    },
    {
      "cell_type": "markdown",
      "metadata": {
        "id": "FHn8Z7YUj9On"
      },
      "source": [
        "PyTorch 的核心就是 `autograd` 包，它可以为张量的所有操作自动求微分。他是一个“由运行定义”的框架——你可以用代码指定如何反向传播，每一次迭代都可以不一样。"
      ]
    },
    {
      "cell_type": "markdown",
      "metadata": {
        "id": "tcTxWnNUj9On"
      },
      "source": [
        "## 1. 张量/Tensor"
      ]
    },
    {
      "cell_type": "markdown",
      "metadata": {
        "id": "a-Scp5Zyj9Oo"
      },
      "source": [
        "`torch.Tensor` 是这个包的最重要的类。如果你把张量的 `.requires_grad` 属性置为 `True`，它会追踪张量上的所有操作。结束计算时，调用 `.backward()` 可以自动计算当前张量的所有梯度并自动累加在 `.grad` 属性上。  \n",
        "  \n",
        "若要停止追踪一个张量，你可以调用 `.detach()` 来把当前张量从计算历史中剥离，这样后续的张量计算就不会被追踪。  \n",
        "  \n",
        "为了避免继续追踪张量的计算以及内存占用，你可以用 `with torch.no_grad():` 来包裹代码块。这样操作在评估模型时很有用，因为模型在 `requires)grad=True` 时，参数可以被训练；但是评估模型时并不需要梯度（来训练模型）。  \n",
        "  \n",
        "还有一个在自动计算梯度是很重要的类：`Function`  \n",
        "  \n",
        "`Tensor` 和 `Function` 相互配合建立起一个无环图，这个无环图包含了所有计算的历史记录。每个张量都有一个 `.grad_fn` 属性，这个属性是创建这个 `Tensor` 的 `Function` 类的引用。（除了那些用户设定 `grad_fn is None` 的张量）  \n",
        "  \n",
        "如果你要计算导数，你可以调用 `Tensor` 的 `.backward()`。如果 `Tensor` 是一个标量（比如只有一个元素的张量），不需要为 `backward()` 指定任何参数，一旦这个张量有不止一个元素， 你就需要指定一个跟张量维度匹配的 `gradient` 参数。"
      ]
    },
    {
      "cell_type": "code",
      "metadata": {
        "id": "5Fn88ND_j9Oo"
      },
      "source": [
        "import torch"
      ],
      "execution_count": 19,
      "outputs": []
    },
    {
      "cell_type": "markdown",
      "metadata": {
        "id": "2KS8z16Pj9Oq"
      },
      "source": [
        "#### 创建一个张量，并设置 `requires_grad=True` 来追踪计算"
      ]
    },
    {
      "cell_type": "code",
      "metadata": {
        "id": "MFhZRZxuj9Or",
        "outputId": "bffc2fa1-dfd7-486d-bd18-c5db55997720",
        "colab": {
          "base_uri": "https://localhost:8080/",
          "height": 51
        }
      },
      "source": [
        "x = torch.ones(2, 2, requires_grad = True)\n",
        "print(x)"
      ],
      "execution_count": 20,
      "outputs": [
        {
          "output_type": "stream",
          "text": [
            "tensor([[1., 1.],\n",
            "        [1., 1.]], requires_grad=True)\n"
          ],
          "name": "stdout"
        }
      ]
    },
    {
      "cell_type": "markdown",
      "metadata": {
        "id": "WLc-3ozSj9Ot"
      },
      "source": [
        "#### 操作一次张量"
      ]
    },
    {
      "cell_type": "code",
      "metadata": {
        "id": "3O_mZ6YEj9Ot",
        "outputId": "ff900952-b890-48ad-8505-4e3ca844df1b",
        "colab": {
          "base_uri": "https://localhost:8080/",
          "height": 51
        }
      },
      "source": [
        "y = x + 2\n",
        "print(y)"
      ],
      "execution_count": 21,
      "outputs": [
        {
          "output_type": "stream",
          "text": [
            "tensor([[3., 3.],\n",
            "        [3., 3.]], grad_fn=<AddBackward0>)\n"
          ],
          "name": "stdout"
        }
      ]
    },
    {
      "cell_type": "markdown",
      "metadata": {
        "id": "Q2T1fRLzj9Ow"
      },
      "source": [
        "y 作为一次张量操作的结果，具有 `grad_fn` 属性"
      ]
    },
    {
      "cell_type": "code",
      "metadata": {
        "id": "6ByxDLcsj9Ow",
        "outputId": "78068107-5b8d-4ad6-d3ec-110a71402f78",
        "colab": {
          "base_uri": "https://localhost:8080/",
          "height": 34
        }
      },
      "source": [
        "print(y.grad_fn)"
      ],
      "execution_count": 22,
      "outputs": [
        {
          "output_type": "stream",
          "text": [
            "<AddBackward0 object at 0x7f126d8f36d8>\n"
          ],
          "name": "stdout"
        }
      ]
    },
    {
      "cell_type": "markdown",
      "metadata": {
        "id": "7CeKR5DMj9Oy"
      },
      "source": [
        "#### 在 y 上执行更多操作"
      ]
    },
    {
      "cell_type": "code",
      "metadata": {
        "id": "04HHdoIpj9Oz",
        "outputId": "80f94326-cff5-4c38-e134-4a7374b81eab",
        "colab": {
          "base_uri": "https://localhost:8080/",
          "height": 51
        }
      },
      "source": [
        "z = y * y * 3\n",
        "out = z.mean()\n",
        "print(z, out)"
      ],
      "execution_count": 23,
      "outputs": [
        {
          "output_type": "stream",
          "text": [
            "tensor([[27., 27.],\n",
            "        [27., 27.]], grad_fn=<MulBackward0>) tensor(27., grad_fn=<MeanBackward0>)\n"
          ],
          "name": "stdout"
        }
      ]
    },
    {
      "cell_type": "markdown",
      "metadata": {
        "id": "Xves2UZQj9O-"
      },
      "source": [
        "`requires_grad_()` 可以原地(in-place)修改现有张量的 `requires_grad`，默认参数为 `False`"
      ]
    },
    {
      "cell_type": "code",
      "metadata": {
        "id": "xB9xcZn1j9O-",
        "outputId": "7c1d3431-c64f-492c-c8d7-a393d778ad9b",
        "colab": {
          "base_uri": "https://localhost:8080/",
          "height": 85
        }
      },
      "source": [
        "a = torch.randn(2, 2)\n",
        "a = ((a * 3) / (a -1))\n",
        "print(a.requires_grad)\n",
        "\n",
        "a.requires_grad_(True)\n",
        "print(a.requires_grad)\n",
        "\n",
        "b = (a * a).sum()\n",
        "print(b.requires_grad)\n",
        "print(b.grad_fn)"
      ],
      "execution_count": 24,
      "outputs": [
        {
          "output_type": "stream",
          "text": [
            "False\n",
            "True\n",
            "True\n",
            "<SumBackward0 object at 0x7f126d909978>\n"
          ],
          "name": "stdout"
        }
      ]
    },
    {
      "cell_type": "markdown",
      "metadata": {
        "id": "gUcryyemj9PB"
      },
      "source": [
        "---"
      ]
    },
    {
      "cell_type": "markdown",
      "metadata": {
        "id": "v73Iz0P9j9PB"
      },
      "source": [
        "## 2. 梯度/Gradients"
      ]
    },
    {
      "cell_type": "markdown",
      "metadata": {
        "id": "PKb6PyM6j9PC"
      },
      "source": [
        "我们现在开始反向传播，因为 `out` 包含了一个标量，所以 `out.backward()` 等价于 `out.backward(torch.tensor(1.))`"
      ]
    },
    {
      "cell_type": "code",
      "metadata": {
        "id": "f6DqpXmkj9PC"
      },
      "source": [
        "out.backward()"
      ],
      "execution_count": 25,
      "outputs": []
    },
    {
      "cell_type": "markdown",
      "metadata": {
        "id": "gF6O8hiGj9PF"
      },
      "source": [
        "#### 打印出 x 的微分"
      ]
    },
    {
      "cell_type": "code",
      "metadata": {
        "id": "u3GucO3Yj9PF",
        "outputId": "038736ed-58a0-4f51-ae1e-5508ea9406f4",
        "colab": {
          "base_uri": "https://localhost:8080/",
          "height": 51
        }
      },
      "source": [
        "print(x.grad)"
      ],
      "execution_count": 26,
      "outputs": [
        {
          "output_type": "stream",
          "text": [
            "tensor([[4.5000, 4.5000],\n",
            "        [4.5000, 4.5000]])\n"
          ],
          "name": "stdout"
        }
      ]
    },
    {
      "cell_type": "markdown",
      "metadata": {
        "id": "oMSaDt2Aj9PI"
      },
      "source": [
        "你会得到一个都是 `4.5` 的矩阵。我们把张量 `out` 称作 “*o*”，则有 $o = \\frac{1}{4}\\sum_i z_i$，$z_i = 3(x_i+2)^2$，$z_i\\bigr\\rvert_{x_i=1} = 27$  \n",
        "因此 $o$ 对 $x$ 的微分为 $\\frac{\\partial o}{\\partial x_i} = \\frac{3}{2}(x_i+2)$，所以$\\frac{\\partial o}{\\partial x_i}\\bigr\\rvert_{x_i=1} = \\frac{9}{2} = 4.5$  \n",
        "从数学角度讲，如果有一个向量 $\\vec{y}$，$\\vec{y}=f(\\vec{x})$，$\\vec{y}$ 关于 $\\vec{x}$ 的梯度是一个雅各比矩阵：  \n",
        "\n",
        "$$\n",
        "\\begin{split}J=\\left(\\begin{array}{ccc}\n",
        " \\frac{\\partial y_{1}}{\\partial x_{1}} & \\cdots & \\frac{\\partial y_{1}}{\\partial x_{n}}\\\\\n",
        " \\vdots & \\ddots & \\vdots\\\\\n",
        " \\frac{\\partial y_{m}}{\\partial x_{1}} & \\cdots & \\frac{\\partial y_{m}}{\\partial x_{n}}\n",
        " \\end{array}\\right)\\end{split}\n",
        "$$\n",
        " \n",
        " 一般来说，`torch.autograd` 是一个计算向量-雅各比乘积的引擎。即，给定一个向量 $v=\\left(\\begin{array}{cccc} v_{1} & v_{2} & \\cdots & v_{m}\\end{array}\\right)^{T}$，计算乘积 $v^{T}\\cdot J$（$1\\times m$ 的向量乘 $m\\times n$ 的矩阵）。  \n",
        " 如果 $v$ 是标量函数 $l=g\\left(\\vec{y}\\right)$的梯度，即 $v=\\left(\\begin{array}{ccc}\\frac{\\partial l}{\\partial y_{1}} & \\cdots & \\frac{\\partial l}{\\partial y_{m}}\\end{array}\\right)^{T}$，则根据链式法则，向量-雅各比的乘积就是向量 $l$ 对 $\\vec{x}$ 的梯度：  \n",
        " \n",
        "$$\n",
        "\\begin{split}J^{T}\\cdot v=\\left(\\begin{array}{ccc}\n",
        " \\frac{\\partial y_{1}}{\\partial x_{1}} & \\cdots & \\frac{\\partial y_{m}}{\\partial x_{1}}\\\\\n",
        " \\vdots & \\ddots & \\vdots\\\\\n",
        " \\frac{\\partial y_{1}}{\\partial x_{n}} & \\cdots & \\frac{\\partial y_{m}}{\\partial x_{n}}\n",
        " \\end{array}\\right)\\left(\\begin{array}{c}\n",
        " \\frac{\\partial l}{\\partial y_{1}}\\\\\n",
        " \\vdots\\\\\n",
        " \\frac{\\partial l}{\\partial y_{m}}\n",
        " \\end{array}\\right)=\\left(\\begin{array}{c}\n",
        " \\frac{\\partial l}{\\partial x_{1}}\\\\\n",
        " \\vdots\\\\\n",
        " \\frac{\\partial l}{\\partial x_{n}}\n",
        " \\end{array}\\right)\\end{split}\n",
        "$$  \n",
        " \n",
        "（注意，$v^{T}\\cdot J$ 返回的是行向量，也可以通过 $J^{T}\\cdot v$ 来得到列向量）  \n",
        "  \n",
        "向量-雅可比乘积的这一特性使得向具有非标量输出的模型输入外部梯度变得非常方便。"
      ]
    },
    {
      "cell_type": "markdown",
      "metadata": {
        "id": "WENMqV9Tj9PJ"
      },
      "source": [
        "下面来看一个向量-雅各比乘积的例子："
      ]
    },
    {
      "cell_type": "code",
      "metadata": {
        "id": "_Pcz7y1Mj9PK",
        "outputId": "b7311f27-6dfc-4298-cc7b-031e1ca7da76",
        "colab": {
          "base_uri": "https://localhost:8080/",
          "height": 34
        }
      },
      "source": [
        "x = torch.randn(3, requires_grad=True)\n",
        "\n",
        "y = x * 2\n",
        "while y.data.norm() < 1000:\n",
        "    y = y * 2\n",
        "    \n",
        "print(y)"
      ],
      "execution_count": 27,
      "outputs": [
        {
          "output_type": "stream",
          "text": [
            "tensor([-596.4021, -166.0108,  931.8950], grad_fn=<MulBackward0>)\n"
          ],
          "name": "stdout"
        }
      ]
    },
    {
      "cell_type": "markdown",
      "metadata": {
        "id": "C_QJlW2Lj9PM"
      },
      "source": [
        "在这个例子中，`y` 不再是标量。`torch.autograd` 不能直接计算完整的雅各比矩阵，但如果我们想得到向量-雅各比乘积，只需要把向量作为参数传递给 `backward` 即可："
      ]
    },
    {
      "cell_type": "code",
      "metadata": {
        "id": "W4Yn4y4hj9PN",
        "outputId": "b794e051-2885-4cac-92d6-0445d826d6d9",
        "colab": {
          "base_uri": "https://localhost:8080/",
          "height": 34
        }
      },
      "source": [
        "v = torch.tensor([0.1, 1.0, 0.0001], dtype = torch.float) #v 相当于一个权值向量\n",
        "y.backward(v)\n",
        "\n",
        "print(x.grad)"
      ],
      "execution_count": 28,
      "outputs": [
        {
          "output_type": "stream",
          "text": [
            "tensor([5.1200e+01, 5.1200e+02, 5.1200e-02])\n"
          ],
          "name": "stdout"
        }
      ]
    },
    {
      "cell_type": "markdown",
      "metadata": {
        "id": "LMXu-ZWdj9PP"
      },
      "source": [
        "想停止追踪张量的计算历史，你可以把张量的 `.requires_grad` 设为 `True` ，也可以把代码块包在 `with torch.no_grad():` 中："
      ]
    },
    {
      "cell_type": "code",
      "metadata": {
        "id": "_HpkNy92j9PQ",
        "outputId": "de9d2452-c4cc-4d4e-8272-afa53a50e3f7",
        "colab": {
          "base_uri": "https://localhost:8080/",
          "height": 68
        }
      },
      "source": [
        "print(x.requires_grad)\n",
        "print((x ** 2).requires_grad)\n",
        "\n",
        "with torch.no_grad():\n",
        "    print((x ** 2).requires_grad)"
      ],
      "execution_count": 29,
      "outputs": [
        {
          "output_type": "stream",
          "text": [
            "True\n",
            "True\n",
            "False\n"
          ],
          "name": "stdout"
        }
      ]
    },
    {
      "cell_type": "markdown",
      "metadata": {
        "id": "T4nwOn_4j9PT"
      },
      "source": [
        "或是使用 `.detach()` 来获得一个内容相同但不需要梯度的新张量："
      ]
    },
    {
      "cell_type": "code",
      "metadata": {
        "id": "dJ3cPsSoj9PT",
        "outputId": "4d34db56-3e20-4feb-c91c-51ea782893b2",
        "colab": {
          "base_uri": "https://localhost:8080/",
          "height": 68
        }
      },
      "source": [
        "print(x.requires_grad)\n",
        "y = x.detach()\n",
        "print(y.requires_grad)\n",
        "print(x.eq(y).all()) #不加.all()会返回一个跟 x 的 shape 相同的张量（即每个元素都进行对比）"
      ],
      "execution_count": 30,
      "outputs": [
        {
          "output_type": "stream",
          "text": [
            "True\n",
            "False\n",
            "tensor(True)\n"
          ],
          "name": "stdout"
        }
      ]
    },
    {
      "cell_type": "markdown",
      "metadata": {
        "id": "BnnbL_8fj9PV"
      },
      "source": [
        "  "
      ]
    },
    {
      "cell_type": "markdown",
      "metadata": {
        "id": "DNvVhUaQj9PW"
      },
      "source": [
        "# 三、神经网络/Neural Network"
      ]
    },
    {
      "cell_type": "markdown",
      "metadata": {
        "id": "5KxuZNMNj9P-"
      },
      "source": [
        "神经网络可由 `torch.mm` 包创建。  \n",
        "\n",
        "既然你已经大致了解过 `autograd` 了，其实 `nn` 正是依赖 `autograd` 来定义和微分神经网络。  \n",
        "`nn.module` 包含了神经网络的各层，以及用来返回 `output` 的方法 `forward(input)`  \n",
        "\n",
        "举个例子，以下是一个用来分类数字图片的（卷积神经）网络：\n",
        "![convnet](https://pytorch.org/tutorials/_images/mnist.png)  \n",
        "\n",
        "这是一个简单的前反馈网络。网络将输入的数据一层一层地传递并输出最终结果。  \n",
        "\n",
        "神经网络的一个典型的训练流程如下：\n",
        "  - 定义一个具有可学习的参数或者权重的神经网络\n",
        "  - 迭代数据集作为输入\n",
        "  - 通过神经网络处理输入的数据\n",
        "  - 计算损失函数（距离正确的输出还有多远）\n",
        "  - 把损失函数的梯度传递给参数\n",
        "  - 更新网络的权重/参数，规则往往很简单：`新权重 = 旧权重 - 学习率 * 梯度`"
      ]
    },
    {
      "cell_type": "markdown",
      "metadata": {
        "id": "gIxYk5Mdj9P_"
      },
      "source": [
        "## 1. 定义网络/Define the network <a id='nn'></a>"
      ]
    },
    {
      "cell_type": "markdown",
      "metadata": {
        "id": "mhJe338Jj9P_"
      },
      "source": [
        "我们来定义一个网络："
      ]
    },
    {
      "cell_type": "code",
      "metadata": {
        "id": "rsbKJX9nj9P_",
        "outputId": "73d972c0-c607-4a99-df54-f2b6b0eacd2d",
        "colab": {
          "base_uri": "https://localhost:8080/",
          "height": 136
        }
      },
      "source": [
        "import torch\n",
        "import torch.nn as nn \n",
        "import torch.nn.functional as F\n",
        "\n",
        "\n",
        "class Net(nn.Module):\n",
        "    \n",
        "    def __init__(self):\n",
        "        super(Net, self).__init__()\n",
        "        #1 个输入图像通道，6 个输出通道，3*3 的方形卷积核\n",
        "        \n",
        "        self.conv1 = nn.Conv2d(1, 6, 3)\n",
        "        self.conv2 = nn.Conv2d(6, 16, 3)\n",
        "        #做一次仿射变换 y = Wx + b\n",
        "        self.fc1 = nn.Linear(16 * 6 * 6, 120) #nn.Liner 是全连接层，6*6是图像的尺寸\n",
        "        self.fc2 = nn.Linear(120, 84)\n",
        "        self.fc3 = nn.Linear(84, 10)\n",
        "        \n",
        "    def forward(self, x):\n",
        "        #在 2*2大小的窗口上做 Max pooling\n",
        "        x = F.max_pool2d(F.relu(self.conv1(x)), (2, 2))\n",
        "        #如果 max pool 是一个正方形，你可以只输入一个值\n",
        "        x = F.max_pool2d(F.relu(self.conv2(x)), 2)\n",
        "        x = x.view(-1, self.num_flat_features(x))\n",
        "        x = F.relu(self.fc1(x))\n",
        "        x = F.relu(self.fc2(x))\n",
        "        x = self.fc3(x)\n",
        "        return x\n",
        "    \n",
        "    def num_flat_features(self, x):\n",
        "        size = x.size()[1:] #除了 batch 外的所有维度\n",
        "        num_features = 1\n",
        "        for s in size:\n",
        "            num_features *= s\n",
        "        return num_features\n",
        "        \n",
        "net = Net()\n",
        "print(net)"
      ],
      "execution_count": 31,
      "outputs": [
        {
          "output_type": "stream",
          "text": [
            "Net(\n",
            "  (conv1): Conv2d(1, 6, kernel_size=(3, 3), stride=(1, 1))\n",
            "  (conv2): Conv2d(6, 16, kernel_size=(3, 3), stride=(1, 1))\n",
            "  (fc1): Linear(in_features=576, out_features=120, bias=True)\n",
            "  (fc2): Linear(in_features=120, out_features=84, bias=True)\n",
            "  (fc3): Linear(in_features=84, out_features=10, bias=True)\n",
            ")\n"
          ],
          "name": "stdout"
        }
      ]
    },
    {
      "cell_type": "markdown",
      "metadata": {
        "id": "5h3xnainj9QB"
      },
      "source": [
        "你只需定义 `forward` 函数，`autograd` 会自动为你定义 `backward` 函数（用来计算梯度）。你可以在 `forward` 函数里使用张量的任何操作。  \n",
        "模型的可学习参数可由 `net.parameters()` 返回。"
      ]
    },
    {
      "cell_type": "code",
      "metadata": {
        "id": "mlwWLL75j9QB",
        "outputId": "5a2b4359-85c2-4c29-b6b5-6c0837d39b5b",
        "colab": {
          "base_uri": "https://localhost:8080/",
          "height": 221
        }
      },
      "source": [
        "for name, param in net.named_parameters():\n",
        "    print(name, param.shape)\n",
        "\n",
        "params = list(net.parameters())\n",
        "print(len(params))\n",
        "print(params[0].size())  #conv1's .weight"
      ],
      "execution_count": 32,
      "outputs": [
        {
          "output_type": "stream",
          "text": [
            "conv1.weight torch.Size([6, 1, 3, 3])\n",
            "conv1.bias torch.Size([6])\n",
            "conv2.weight torch.Size([16, 6, 3, 3])\n",
            "conv2.bias torch.Size([16])\n",
            "fc1.weight torch.Size([120, 576])\n",
            "fc1.bias torch.Size([120])\n",
            "fc2.weight torch.Size([84, 120])\n",
            "fc2.bias torch.Size([84])\n",
            "fc3.weight torch.Size([10, 84])\n",
            "fc3.bias torch.Size([10])\n",
            "10\n",
            "torch.Size([6, 1, 3, 3])\n"
          ],
          "name": "stdout"
        }
      ]
    },
    {
      "cell_type": "markdown",
      "metadata": {
        "id": "3wnXi5DZj9QD"
      },
      "source": [
        "我们来尝试一个 $32\\times 32$ 随机输入的 LeNet，要在 MNIST 数据集上使用这个网络，需要先将数据集的图像尺寸转换成 $32\\times 32$"
      ]
    },
    {
      "cell_type": "code",
      "metadata": {
        "id": "L42XvC_Ej9QE",
        "outputId": "c846818e-8928-4dae-cd03-f1efa655f188",
        "colab": {
          "base_uri": "https://localhost:8080/",
          "height": 51
        }
      },
      "source": [
        "input = torch.randn(1, 1, 32, 32)\n",
        "out = net(input)\n",
        "print(out)"
      ],
      "execution_count": 33,
      "outputs": [
        {
          "output_type": "stream",
          "text": [
            "tensor([[-0.0765,  0.0178, -0.0342, -0.0084,  0.1067, -0.1116, -0.0622, -0.0081,\n",
            "         -0.1066,  0.0137]], grad_fn=<AddmmBackward>)\n"
          ],
          "name": "stdout"
        }
      ]
    },
    {
      "cell_type": "markdown",
      "metadata": {
        "id": "3al9fYqvj9QF"
      },
      "source": [
        "将梯度缓存归零并且向后传播随机的梯度："
      ]
    },
    {
      "cell_type": "code",
      "metadata": {
        "id": "k12oqlXij9QF"
      },
      "source": [
        "net.zero_grad()\n",
        "out.backward(torch.randn(1, 10))"
      ],
      "execution_count": 34,
      "outputs": []
    },
    {
      "cell_type": "markdown",
      "metadata": {
        "id": "Y_W7Rq1Mj9QH"
      },
      "source": [
        "> `torch.nn` 只支持 mini-batches，整个 torch.nn 包只支持小批量样本的输入，而不支持单个样本。\n",
        "比如，`nn.Conv2d` 需要一个 4 维张量 `nSamples * nChannels * Height * Width`  \n",
        "如果只有一个样本，只需使用 `input.unsqueeze(0)` 添加一个假的批处理尺寸。"
      ]
    },
    {
      "cell_type": "markdown",
      "metadata": {
        "id": "GoLq11ywj9QH"
      },
      "source": [
        "再进一步处理前，让我们回顾一下你已经学会了什么。  \n",
        "### 回顾：\n",
        "- `torch.Tensor` 是一个支持像 `backward` 等自动微分操作的多维数组\n",
        "- `nn.Module` 神经网络模块，方便的参数封装方式，有助于将参数移动到 GPU、导出、加载等等\n",
        "- `nn.Parameter` 作为一类张量，当作为属性分配给 `Module` 时，自动注册为参数。\n",
        "- `autograd.Function` 实现自动微分操作的正向和反向传播。每个 `Tensor` 至少创建一个 `Function` 节点，该节点来连接到创建 `Tensor` 的函数并对其历史进行编码。  \n",
        "\n",
        "### 目前为止，我们进行了：  \n",
        "- 定义一个神经网络  \n",
        "- 处理输入数据和调用反向传播  \n",
        "\n",
        "### 接下来：  \n",
        "- 计算损失函数  \n",
        "- 更新网络内的权重"
      ]
    },
    {
      "cell_type": "markdown",
      "metadata": {
        "id": "E1dISSN6j9QH"
      },
      "source": [
        "---  "
      ]
    },
    {
      "cell_type": "markdown",
      "metadata": {
        "id": "O5bYvdUJj9QH"
      },
      "source": [
        "## 2. 损失函数/Loss Function"
      ]
    },
    {
      "cell_type": "markdown",
      "metadata": {
        "id": "xOistjvDj9QI"
      },
      "source": [
        "损失函数接受输入对(输出，目标)，并估算出输出值于目标间的距离。  \n",
        "在 nn 包中有几种不同的[损失函数](https://pytorch.org/docs/nn.html#loss-functions)。一个简单的损失定义是: `nn.MSELoss`，它计算输入值和目标值之间的**均方误差**。\n",
        "\n",
        "举例如下："
      ]
    },
    {
      "cell_type": "code",
      "metadata": {
        "id": "zDKpgZz-j9QI",
        "outputId": "0e9cad66-2e7c-4fbe-f1f6-3ba15669895b",
        "colab": {
          "base_uri": "https://localhost:8080/",
          "height": 34
        }
      },
      "source": [
        "output = net(input)\n",
        "target = torch.randn(10)  # 价目表，就举个例子,这是一个一维数组\n",
        "target = target.view(1, -1)  # 跟输出的维度一致，变成[1*10]的张量\n",
        "criterion = nn.MSELoss()\n",
        "\n",
        "loss = criterion(output, target)\n",
        "print(loss)"
      ],
      "execution_count": 35,
      "outputs": [
        {
          "output_type": "stream",
          "text": [
            "tensor(0.9162, grad_fn=<MseLossBackward>)\n"
          ],
          "name": "stdout"
        }
      ]
    },
    {
      "cell_type": "markdown",
      "metadata": {
        "id": "z-9N6-HCj9QK"
      },
      "source": [
        "现在，如果你沿着损失的反方向，使用它的 `.grad_fn` 属性，你会看到一个如下的计算图:\n",
        "```\n",
        "input -> conv2d -> relu -> maxpool2d -> conv2d -> relu -> maxpool2d\n",
        "      -> view -> linear -> relu -> linear -> relu -> linear\n",
        "      -> MSELoss\n",
        "      -> loss\n",
        "```"
      ]
    },
    {
      "cell_type": "markdown",
      "metadata": {
        "id": "fSwcfzvLj9QK"
      },
      "source": [
        "所以，当我们调用 `loss.backward()` ，会按照整个计算图对损失函数求微分。图中 `requires_grad=True` 的张量具有 `.grad` 属性，这个属性是一个用来累加梯度的张量。  \n",
        "\n",
        "为了说明这一点，我们来反向推几步："
      ]
    },
    {
      "cell_type": "code",
      "metadata": {
        "id": "gg2cPF6Ij9QK",
        "outputId": "b7697cc7-bb1f-4cde-f6c4-510ddd8850f3",
        "colab": {
          "base_uri": "https://localhost:8080/",
          "height": 68
        }
      },
      "source": [
        "print(loss.grad_fn)                                           #均方误差/MESLoss\n",
        "print(loss.grad_fn.next_functions[0][0])                      #全连接层/Linear\n",
        "print(loss.grad_fn.next_functions[0][0].next_functions[0][0]) #线性整流函数/ReLU（激活函数）"
      ],
      "execution_count": 36,
      "outputs": [
        {
          "output_type": "stream",
          "text": [
            "<MseLossBackward object at 0x7f126d8f3668>\n",
            "<AddmmBackward object at 0x7f126d8f37f0>\n",
            "<AccumulateGrad object at 0x7f126d8f3668>\n"
          ],
          "name": "stdout"
        }
      ]
    },
    {
      "cell_type": "markdown",
      "metadata": {
        "id": "_K8hxw1sj9QM"
      },
      "source": [
        "---"
      ]
    },
    {
      "cell_type": "markdown",
      "metadata": {
        "id": "3L22STvpj9QN"
      },
      "source": [
        "## 3. 反向传播/Backprop <a id='backprop'></a>"
      ]
    },
    {
      "cell_type": "markdown",
      "metadata": {
        "id": "ViSgEAGzj9QN"
      },
      "source": [
        "我们只需使用 `loss.backward()` 即可反向传播误差，你需要清除已有的梯度，否则新的梯度会被累加到旧的梯度上。  \n",
        "  \n",
        "现在我们来调用 `loss.backward()`，看看在反向传播前后 conv1 偏差/bias 的梯度"
      ]
    },
    {
      "cell_type": "code",
      "metadata": {
        "id": "5MEnBDM1j9QN",
        "outputId": "a018f9ec-4157-4ba5-a7c2-2e316adf2b45",
        "colab": {
          "base_uri": "https://localhost:8080/",
          "height": 85
        }
      },
      "source": [
        "net.zero_grad()                 #将所有参数的梯度归零\n",
        "print('反向传播前的 conv1.bias.grad')\n",
        "print(net.conv1.bias.grad)\n",
        "\n",
        "loss.backward()\n",
        "\n",
        "print('反向传播后的 conv1.bias.grad')\n",
        "print(net.conv1.bias.grad)"
      ],
      "execution_count": 37,
      "outputs": [
        {
          "output_type": "stream",
          "text": [
            "反向传播前的 conv1.bias.grad\n",
            "tensor([0., 0., 0., 0., 0., 0.])\n",
            "反向传播后的 conv1.bias.grad\n",
            "tensor([-0.0057, -0.0024,  0.0065, -0.0021, -0.0026,  0.0015])\n"
          ],
          "name": "stdout"
        }
      ]
    },
    {
      "cell_type": "markdown",
      "metadata": {
        "id": "WisZ4tHzj9QP"
      },
      "source": [
        "好，你已经知道了如何使用损失函数了。  \n",
        "\n",
        "### 稍后阅读：  \n",
        "- 神经网络包 `nn` 囊括了构成深层神经网络的各种模块和损失函数。完整的文档列表在[这里](https://pytorch.org/docs/nn)。  \n",
        "\n",
        "### 只剩下一个没学：\n",
        "- 更新网络的权值"
      ]
    },
    {
      "cell_type": "markdown",
      "metadata": {
        "id": "KfX4M3Zrj9QP"
      },
      "source": [
        "---"
      ]
    },
    {
      "cell_type": "markdown",
      "metadata": {
        "id": "lAcD4xdVj9QP"
      },
      "source": [
        "## 4. 更新网络的权值/Update the weights"
      ]
    },
    {
      "cell_type": "markdown",
      "metadata": {
        "id": "NRXVbTB5j9QP"
      },
      "source": [
        "实践中最常用的就是随机梯度下降法（SGD）：\n",
        "`权重 = 权重 - 学习率 * 梯度`  \n",
        "\n",
        "我们可以用下面很简单的 Python 代码实现它："
      ]
    },
    {
      "cell_type": "code",
      "metadata": {
        "id": "RtBOE-r3j9QP"
      },
      "source": [
        "learning_rate = 0.01\n",
        "for f in net.parameters():\n",
        "    f.data.sub_(f.grad.data * learning_rate)\n",
        "    \n"
      ],
      "execution_count": 38,
      "outputs": []
    },
    {
      "cell_type": "markdown",
      "metadata": {
        "id": "1BJNW_PGj9QR"
      },
      "source": [
        "然而，在你使用神经网络时，你想使用各种不同的更新算法，比如SGD、Nesterov-SGD、Adam、RMSProp等等。为了实现这点，我们构建了一个包：`torch.optim`，实现了所有上述的算法。用起来很简单："
      ]
    },
    {
      "cell_type": "code",
      "metadata": {
        "scrolled": true,
        "id": "Pu_Y7GgYj9QS"
      },
      "source": [
        "import torch.optim as optim\n",
        "\n",
        "#创建你的优化器\n",
        "optimizer = optim.SGD(net.parameters(), lr = 0.1)\n",
        "\n",
        "#在你的训练循环中\n",
        "optimizer.zero_grad()              #将梯度的缓存归零\n",
        "output = net(input)\n",
        "loss = criterion(output, target)\n",
        "loss.backward()\n",
        "optimizer.step()                   #执行更新操作"
      ],
      "execution_count": 39,
      "outputs": []
    },
    {
      "cell_type": "markdown",
      "metadata": {
        "id": "z93pbOoUj9QT"
      },
      "source": [
        "> 观察梯度缓冲区是如何使用 `optimizer.zero _ grad()` 手动设置为零的。需要归零是因为梯度是按照 [Backprop](#backprop) 部分的说明累加的。"
      ]
    },
    {
      "cell_type": "markdown",
      "metadata": {
        "id": "JZJeQowNj9QT"
      },
      "source": [
        "  \n",
        " "
      ]
    },
    {
      "cell_type": "markdown",
      "metadata": {
        "id": "EDj9gjVej9QU"
      },
      "source": [
        "# 四、训练一个分类器"
      ]
    },
    {
      "cell_type": "markdown",
      "metadata": {
        "id": "gKRzbdr9j9QU"
      },
      "source": [
        "目前你已经了解了如何定义神经网络，计算损失和更新网络的权重。  \n",
        "现在你可能在想，  \n",
        "\n",
        "## 关于数据  \n",
        "通常，当你需要处理图像、文本、音频或视频数据时，可以使用标准的 python 包将数据加载到 numpy 数组中。然后你可以把这个数组转换成一个 `torch.*Tensor`。\n",
        "- Pillow、OpenCV 等包适用于处理图像\n",
        "- scipy 和 librosa 等包适用于处理音频\n",
        "- 对于文本，原生 Python 或者 Cython、NLTK 以及 SpaCy 都很好用  \n",
        "\n",
        "针对（计算机）视觉，我们开发了一个叫做 `torchvision` 的包，其中包含了用于常见数据集（如 Imagenet、 CIFAR10、 MNIST 等）的数据加载器，以及用于图像的数据转换器，即 `torchion.datasets` 和 `torch.utils.data.DataLoader` 。  \n",
        "\n",
        "这些包提供了大量的便利，避免了重复造轮子的过程。  \n",
        "\n",
        "在这部分教程里，我们会用到 CIFAR10 数据集。数据集包括“飞机”、“轿车”、“鸟”、“猫”、“鹿”、“狗”、“蛙”、“马”、“船”、“卡车”十个类别。CIFAR10 的图片尺寸是 $3\\times 32 \\times 32$，即，$32\\times 32$ 像素的 3 通道（RGB）图片。  \n",
        "![CIFAR10.png](https://i.loli.net/2020/10/16/25PSz3sednuY64t.png)"
      ]
    },
    {
      "cell_type": "markdown",
      "metadata": {
        "id": "AextMQMfj9QU"
      },
      "source": [
        "---"
      ]
    },
    {
      "cell_type": "markdown",
      "metadata": {
        "id": "tKm1DEPUj9QU"
      },
      "source": [
        "## 训练一个图像分类器"
      ]
    },
    {
      "cell_type": "markdown",
      "metadata": {
        "id": "R8xX9Iv_j9QU"
      },
      "source": [
        "我们来依次进行以下的步骤：\n",
        "1. 用 `torchvision` 加载并归一化 CIFAR10 的训练集和测试集\n",
        "2. 定义一个卷积神经网络\n",
        "3. 定义一个损失函数\n",
        "4. 用训练集训练这个神经网络\n",
        "5. 用测试集测试这个神经网络  \n",
        "\n",
        "### 1. 加载并归一化 CIFAR10（准备数据）  \n",
        "通过 `torchvision`，我们可以很方便地加载 CIFAR10（数据集）"
      ]
    },
    {
      "cell_type": "code",
      "metadata": {
        "id": "EkKmYuZQj9QV"
      },
      "source": [
        "import torch\n",
        "import torchvision\n",
        "import torchvision.transforms as transforms"
      ],
      "execution_count": 40,
      "outputs": []
    },
    {
      "cell_type": "markdown",
      "metadata": {
        "id": "P0g_jkroj9QX"
      },
      "source": [
        "torchvision 数据集的输出是 $[0,1]$ 上的 PILImage 类型的图像，我们需要把这些图像归一化在 $[-1,1]$ 上的张量，注意：  \n",
        "如果在 Windows 上运行时出现了一个 **BrokenPipeError**，请尝试将 `torch.utils.data. DataLoader()` 的 `num _ worker` 设置为`0`。"
      ]
    },
    {
      "cell_type": "code",
      "metadata": {
        "id": "8bmGT1MJj9QX",
        "outputId": "f1de872e-d0ab-4657-bad1-079a7196ece5",
        "colab": {
          "base_uri": "https://localhost:8080/",
          "height": 100,
          "referenced_widgets": [
            "3c59afeb62da4470a2434126c2dc9601",
            "c7f980312c1c4be1b736095a14a3a813",
            "1d3aeef9ae6946ababbcde381a192058",
            "c2b2211ff5644aaca256252d66cf9b5a",
            "dc2cafb927f647e69312a8d919d0a73c",
            "317310ec839b4efb8ec40e9fe1c7eb99",
            "33727089303a4cf28a0ac296e8b42dba",
            "861105c4dc2f421d854682663afe124d"
          ]
        }
      },
      "source": [
        "transform = transforms.Compose(\n",
        "    [transforms.ToTensor(),\n",
        "     transforms.Normalize((0.5, 0.5, 0.5), (0.5, 0.5, 0.5))])\n",
        "trainset = torchvision.datasets.CIFAR10(root='./data', train=True, download=True, transform=transform)\n",
        "trainloader = torch.utils.data.DataLoader(trainset, batch_size=4, shuffle=True, num_workers=2)\n",
        "\n",
        "testset = torchvision.datasets.CIFAR10(root='./data', train=False, download=True, transform=transform)\n",
        "testloader = torch.utils.data.DataLoader(testset, batch_size=4, shuffle=False, num_workers=2)\n",
        "\n",
        "classes = ('plane', 'car', 'bird', 'cat', 'deer', 'dog', 'frog', 'horse', 'ship', 'truck')"
      ],
      "execution_count": 41,
      "outputs": [
        {
          "output_type": "stream",
          "text": [
            "Downloading https://www.cs.toronto.edu/~kriz/cifar-10-python.tar.gz to ./data/cifar-10-python.tar.gz\n"
          ],
          "name": "stdout"
        },
        {
          "output_type": "display_data",
          "data": {
            "application/vnd.jupyter.widget-view+json": {
              "model_id": "3c59afeb62da4470a2434126c2dc9601",
              "version_minor": 0,
              "version_major": 2
            },
            "text/plain": [
              "HBox(children=(FloatProgress(value=1.0, bar_style='info', max=1.0), HTML(value='')))"
            ]
          },
          "metadata": {
            "tags": []
          }
        },
        {
          "output_type": "stream",
          "text": [
            "Extracting ./data/cifar-10-python.tar.gz to ./data\n",
            "Files already downloaded and verified\n"
          ],
          "name": "stdout"
        }
      ]
    },
    {
      "cell_type": "markdown",
      "metadata": {
        "id": "5Nw-_6STj9QY"
      },
      "source": [
        "我们看一点训练集里的图片，就为了玩："
      ]
    },
    {
      "cell_type": "code",
      "metadata": {
        "id": "x4FhYKNej9QY",
        "outputId": "d69f7db3-d6ef-40e8-fb31-75de9f163def",
        "colab": {
          "base_uri": "https://localhost:8080/",
          "height": 155
        }
      },
      "source": [
        "import matplotlib.pyplot as plt\n",
        "import numpy as np\n",
        "\n",
        "#预览图片的函数\n",
        "\n",
        "def imshow(img):\n",
        "    img = img / 2 + 0.5     #反归一化\n",
        "    npimg = img.numpy()\n",
        "    plt.imshow(np.transpose(npimg, (1, 2, 0)))\n",
        "    plt.show()\n",
        "\n",
        "#随机获取一些训练图片\n",
        "dataiter = iter(trainloader)\n",
        "images, labels = dataiter.next()\n",
        "\n",
        "#预览图片\n",
        "imshow(torchvision.utils.make_grid(images))\n",
        "\n",
        "#打印出标签\n",
        "print(' '.join('%5s' % classes[labels[j]] for j in range(4)))"
      ],
      "execution_count": 42,
      "outputs": [
        {
          "output_type": "display_data",
          "data": {
            "image/png": "[encoded data removed]",
            "text/plain": [
              "<Figure size 432x288 with 1 Axes>"
            ]
          },
          "metadata": {
            "tags": [],
            "needs_background": "light"
          }
        },
        {
          "output_type": "stream",
          "text": [
            " bird horse horse  bird\n"
          ],
          "name": "stdout"
        }
      ]
    },
    {
      "cell_type": "markdown",
      "metadata": {
        "id": "smrXpI6Ij9QZ"
      },
      "source": [
        "### 2. 定义一个卷积神经网络  \n",
        "复制[上文](#nn)定义神经网络部分，修改它为输入3通道的图像（之前定义的是 1 通道的图像）。"
      ]
    },
    {
      "cell_type": "code",
      "metadata": {
        "id": "raVnSdCHj9QZ"
      },
      "source": [
        "import torch.nn as nnn\n",
        "import torch.nn.functional as F\n",
        "\n",
        "class Net(nn.Module):\n",
        "    def __init__(self):\n",
        "        super(Net, self).__init__()\n",
        "        self.conv1 = nn.Conv2d(3, 6, 5)\n",
        "        self.pool = nn.MaxPool2d(2, 2)\n",
        "        self.conv2 = nn.Conv2d(6, 16, 5)\n",
        "        self.fc1 = nn.Linear(16 * 5 * 5, 120)\n",
        "        self.fc2 = nn.Linear(120, 84)\n",
        "        self.fc3 = nn.Linear(84, 10)\n",
        "        \n",
        "    def forward(self, x):\n",
        "        x = self.pool(F.relu(self.conv1(x)))\n",
        "        x = self.pool(F.relu(self.conv2(x)))\n",
        "        x = x.view(-1, 16 * 5 * 5)\n",
        "        x = F.relu(self.fc1(x))\n",
        "        x = F.relu(self.fc2(x))\n",
        "        x = self.fc3(x)\n",
        "        return x\n",
        "    \n",
        "\n",
        "net = Net()"
      ],
      "execution_count": 43,
      "outputs": []
    },
    {
      "cell_type": "markdown",
      "metadata": {
        "id": "LQKJFb9qj9Qb"
      },
      "source": [
        "### 3. 定义损失函数和优化器  \n",
        "我们用交叉熵做损失函数，用带梯度的随机梯度下降法做优化。"
      ]
    },
    {
      "cell_type": "code",
      "metadata": {
        "id": "c0mZdJf3j9Qb"
      },
      "source": [
        "import torch.optim as optim\n",
        "\n",
        "criterion = nn.CrossEntropyLoss()\n",
        "optimizer = optim.SGD(net.parameters(), lr=0.001, momentum=0.9)"
      ],
      "execution_count": 44,
      "outputs": []
    },
    {
      "cell_type": "markdown",
      "metadata": {
        "id": "Y-a3Wg49j9Qc"
      },
      "source": [
        "### 4. 训练网络  \n",
        "下面开始变得有意思了。我们只需要循环遍历数据迭代器，将输入信息提供给网络并进行优化。"
      ]
    },
    {
      "cell_type": "code",
      "metadata": {
        "scrolled": true,
        "id": "yZFOcO3Rj9Qc",
        "outputId": "77673c8e-da13-493a-a27e-8b9a8f6c5a79",
        "colab": {
          "base_uri": "https://localhost:8080/",
          "height": 238
        }
      },
      "source": [
        "for epoch in range(2):                        #多次循环遍历数据集\n",
        "    \n",
        "    running_loss = 0.0\n",
        "    for i, data in enumerate(trainloader, 0):\n",
        "        #获取输入信息，data 是一个[inputs, labels]列表\n",
        "        inputs, labels = data\n",
        "        \n",
        "        #参数的梯度归零\n",
        "        optimizer.zero_grad()\n",
        "        \n",
        "        #前向传播 + 后向传播 + 梯度优化\n",
        "        outputs = net(inputs)\n",
        "        loss = criterion(outputs, labels)\n",
        "        loss.backward()\n",
        "        optimizer.step()\n",
        "        \n",
        "        #打印统计信息\n",
        "        running_loss += loss.item()\n",
        "        if i % 2000 == 1999:                    #每经过 2000 个 mini-batches 打印一次\n",
        "            print('[%d, %5d] loss: %.3f' % (epoch + 1, i + 1, running_loss / 2000))\n",
        "            running_loss = 0.0\n",
        "            \n",
        "print('训练结束')"
      ],
      "execution_count": 45,
      "outputs": [
        {
          "output_type": "stream",
          "text": [
            "[1,  2000] loss: 2.186\n",
            "[1,  4000] loss: 1.916\n",
            "[1,  6000] loss: 1.704\n",
            "[1,  8000] loss: 1.595\n",
            "[1, 10000] loss: 1.528\n",
            "[1, 12000] loss: 1.482\n",
            "[2,  2000] loss: 1.395\n",
            "[2,  4000] loss: 1.380\n",
            "[2,  6000] loss: 1.349\n",
            "[2,  8000] loss: 1.331\n",
            "[2, 10000] loss: 1.298\n",
            "[2, 12000] loss: 1.309\n",
            "训练结束\n"
          ],
          "name": "stdout"
        }
      ]
    },
    {
      "cell_type": "markdown",
      "metadata": {
        "id": "TXpYSW3kj9Qe"
      },
      "source": [
        "快点把训练好的模型保存下来："
      ]
    },
    {
      "cell_type": "code",
      "metadata": {
        "id": "PRkCcBpqj9Qe"
      },
      "source": [
        "PATH = './cifar_net.pth'\n",
        "torch.save(net.state_dict(), PATH)"
      ],
      "execution_count": 46,
      "outputs": []
    },
    {
      "cell_type": "markdown",
      "metadata": {
        "id": "Bx_J8gghj9Qf"
      },
      "source": [
        "点击[这里](https://pytorch.org/docs/stable/notes/serialization.html)查看保存 PyTorch 模型的更多细节。"
      ]
    },
    {
      "cell_type": "markdown",
      "metadata": {
        "id": "4wh8CEx5j9Qg"
      },
      "source": [
        "### 5. 用测试数据测试网络  \n",
        "我们的网络已经学习了两次训练集。但是我们需要检查一下这个网络是不是真的学到了什么东西。  \n",
        "\n",
        "我们将通过对比神经网络预测出的标签和真实数据进行对比。如果预测正确，我们将正确的样本添加到正确预测表中。  \n",
        "\n",
        "第一步，我们预览一些测试集的图片来熟悉一下内容。"
      ]
    },
    {
      "cell_type": "code",
      "metadata": {
        "scrolled": true,
        "id": "L5ALdUzHj9Qg",
        "outputId": "b43fd869-a8b2-47fe-d5ef-052cd93bd7e5",
        "colab": {
          "base_uri": "https://localhost:8080/",
          "height": 155
        }
      },
      "source": [
        "dataiter = iter(testloader)\n",
        "images, labels = dataiter.next()\n",
        "\n",
        "#预览图片\n",
        "imshow(torchvision.utils.make_grid(images))\n",
        "print('真实值：', ' '.join('%5s' % classes[labels[j]] for j in range(4)))"
      ],
      "execution_count": 47,
      "outputs": [
        {
          "output_type": "display_data",
          "data": {
            "image/png": "[encoded data removed]",
            "text/plain": [
              "<Figure size 432x288 with 1 Axes>"
            ]
          },
          "metadata": {
            "tags": [],
            "needs_background": "light"
          }
        },
        {
          "output_type": "stream",
          "text": [
            "真实值：   cat  ship  ship plane\n"
          ],
          "name": "stdout"
        }
      ]
    },
    {
      "cell_type": "markdown",
      "metadata": {
        "id": "-D1pPdkOj9Qh"
      },
      "source": [
        "下一步，我们载入之前保存的模型（注：不比在个例子中保存、读取模型，我们这么做只是为了说明如何保存和读取模型）："
      ]
    },
    {
      "cell_type": "code",
      "metadata": {
        "id": "RTBgFwTLj9Qi",
        "outputId": "7ffc25d4-2e03-4f63-e7aa-542fd80538de",
        "colab": {
          "base_uri": "https://localhost:8080/",
          "height": 34
        }
      },
      "source": [
        "net = Net()\n",
        "net.load_state_dict(torch.load(PATH))"
      ],
      "execution_count": 48,
      "outputs": [
        {
          "output_type": "execute_result",
          "data": {
            "text/plain": [
              "<All keys matched successfully>"
            ]
          },
          "metadata": {
            "tags": []
          },
          "execution_count": 48
        }
      ]
    },
    {
      "cell_type": "markdown",
      "metadata": {
        "id": "5uGY7sfMj9Qj"
      },
      "source": [
        "好，现在我们看看神经网络会认为上面的图片都是什么："
      ]
    },
    {
      "cell_type": "code",
      "metadata": {
        "id": "NF3xkI4sj9Qj"
      },
      "source": [
        "outputs = net(images)"
      ],
      "execution_count": 49,
      "outputs": []
    },
    {
      "cell_type": "markdown",
      "metadata": {
        "id": "rO5DnLrRj9Qk"
      },
      "source": [
        "输出的信息是图片属于这 10 种类别的概率。某类的概率越高，意味着神经网络认为这张图属于这一类的可能性越大。所以，我们看看概率最高的标签都是什么："
      ]
    },
    {
      "cell_type": "code",
      "metadata": {
        "id": "DAvQiYlAj9Qk",
        "outputId": "ab6eec0e-b538-4d02-c72f-707462131b8c",
        "colab": {
          "base_uri": "https://localhost:8080/",
          "height": 34
        }
      },
      "source": [
        "_, predicted = torch.max(outputs, 1)     #1 用来指定维度\n",
        "\n",
        "print('预测值：', ' '.join('%5s' % classes[predicted[j]] for j in range(4)))"
      ],
      "execution_count": 50,
      "outputs": [
        {
          "output_type": "stream",
          "text": [
            "预测值：   cat  ship plane plane\n"
          ],
          "name": "stdout"
        }
      ]
    },
    {
      "cell_type": "markdown",
      "metadata": {
        "id": "hvXINc8tj9Ql"
      },
      "source": [
        "结果看起来还行。  \n",
        "我们再看看这个网络在整个测试集上的表现："
      ]
    },
    {
      "cell_type": "code",
      "metadata": {
        "id": "rUqELiK4j9Ql",
        "outputId": "6c4e3cd0-6ace-4bd4-9adb-20ed74864a60",
        "colab": {
          "base_uri": "https://localhost:8080/",
          "height": 34
        }
      },
      "source": [
        "correct = 0\n",
        "total = 0\n",
        "with torch.no_grad():\n",
        "    for data in testloader:\n",
        "        images, labels = data\n",
        "        outputs = net(images)\n",
        "        _, predicted = torch.max(outputs.data, 1)\n",
        "        total += labels.size(0)\n",
        "        correct += (predicted == labels).sum().item()\n",
        "        \n",
        "print('10000张图片上网络的精确度为：%d %%' % (100 * correct/total))"
      ],
      "execution_count": 51,
      "outputs": [
        {
          "output_type": "stream",
          "text": [
            "10000张图片上网络的精确度为：55 %\n"
          ],
          "name": "stdout"
        }
      ]
    },
    {
      "cell_type": "markdown",
      "metadata": {
        "id": "feXKE1Dlj9Qm"
      },
      "source": [
        "这看起来比随机选择要好得多，因为随机选择的准确率是 10% (从 10 个类中随机选择一个类)。看起来网络的确学到了点东西。  \n",
        "emmm，那么预测哪些类别的表现比较好，而哪些比较差呢："
      ]
    },
    {
      "cell_type": "code",
      "metadata": {
        "id": "0ZNreZGkj9Qm",
        "outputId": "31ddc671-55f6-453f-daa4-9591b6101516",
        "colab": {
          "base_uri": "https://localhost:8080/",
          "height": 187
        }
      },
      "source": [
        "class_correct = list(0. for i in range(10))\n",
        "class_total = list(0. for i in range(10))\n",
        "with torch.no_grad():\n",
        "    for data in testloader:\n",
        "        images, labels = data\n",
        "        outputs = net(images)\n",
        "        _, predicted = torch.max(outputs, 1)\n",
        "        c = (predicted == labels).squeeze()\n",
        "        for i in range(4):\n",
        "            label = labels[i]\n",
        "            class_correct[label] += c[i].item()\n",
        "            class_total[label] += 1\n",
        "            \n",
        "for i in range(10):\n",
        "    print('%5s 的准确度：%2d %%' % (classes[i], 100 * class_correct[i] / class_total[i]))"
      ],
      "execution_count": 52,
      "outputs": [
        {
          "output_type": "stream",
          "text": [
            "plane 的准确度：52 %\n",
            "  car 的准确度：75 %\n",
            " bird 的准确度：49 %\n",
            "  cat 的准确度：13 %\n",
            " deer 的准确度：36 %\n",
            "  dog 的准确度：68 %\n",
            " frog 的准确度：68 %\n",
            "horse 的准确度：56 %\n",
            " ship 的准确度：71 %\n",
            "truck 的准确度：59 %\n"
          ],
          "name": "stdout"
        }
      ]
    },
    {
      "cell_type": "markdown",
      "metadata": {
        "id": "Rl2wKxugj9Qn"
      },
      "source": [
        "那接下来呢？  \n",
        "我们如何把这个网络放到 GPU 上运行？"
      ]
    },
    {
      "cell_type": "markdown",
      "metadata": {
        "id": "bykGVi4xj9Qo"
      },
      "source": [
        "---"
      ]
    },
    {
      "cell_type": "markdown",
      "metadata": {
        "id": "oAbyJ1VKj9Qo"
      },
      "source": [
        "## 在 GPU 上训练  \n",
        "跟张量一样，神经网络一样可以转移到 GPU 上。  \n",
        "如果有可用的 CUDA，我们先定义一个可见的 cuda 设备："
      ]
    },
    {
      "cell_type": "code",
      "metadata": {
        "id": "yJur-Hp6j9Qo",
        "outputId": "56d230a3-f7cc-4916-8d50-38800de9535a",
        "colab": {
          "base_uri": "https://localhost:8080/",
          "height": 34
        }
      },
      "source": [
        "device = torch.device(\"cuda:0\" if torch.cuda.is_available() else \"cpu\")\n",
        "\n",
        "#如果我们有装备 CUDA 的机器，下面会打印出一个 CUDA 设备\n",
        "print(device)"
      ],
      "execution_count": 53,
      "outputs": [
        {
          "output_type": "stream",
          "text": [
            "cuda:0\n"
          ],
          "name": "stdout"
        }
      ]
    },
    {
      "cell_type": "markdown",
      "metadata": {
        "id": "0XthdsBYj9Qp"
      },
      "source": [
        "本节的其余部分假定该设备是 CUDA 设备。  \n",
        "然后这些方法将递归地遍历所有模块，并将其参数和缓冲区转换为 CUDA 张量:"
      ]
    },
    {
      "cell_type": "code",
      "metadata": {
        "id": "ihISKa99j9Qp",
        "outputId": "ce71d797-e693-4882-c623-05716b25f229",
        "colab": {
          "base_uri": "https://localhost:8080/",
          "height": 153
        }
      },
      "source": [
        "net.to(device)"
      ],
      "execution_count": 54,
      "outputs": [
        {
          "output_type": "execute_result",
          "data": {
            "text/plain": [
              "Net(\n",
              "  (conv1): Conv2d(3, 6, kernel_size=(5, 5), stride=(1, 1))\n",
              "  (pool): MaxPool2d(kernel_size=2, stride=2, padding=0, dilation=1, ceil_mode=False)\n",
              "  (conv2): Conv2d(6, 16, kernel_size=(5, 5), stride=(1, 1))\n",
              "  (fc1): Linear(in_features=400, out_features=120, bias=True)\n",
              "  (fc2): Linear(in_features=120, out_features=84, bias=True)\n",
              "  (fc3): Linear(in_features=84, out_features=10, bias=True)\n",
              ")"
            ]
          },
          "metadata": {
            "tags": []
          },
          "execution_count": 54
        }
      ]
    },
    {
      "cell_type": "markdown",
      "metadata": {
        "id": "MXW1KSLMj9Qr"
      },
      "source": [
        "你必须记得在每一步都将输入和目标发送给 GPU:"
      ]
    },
    {
      "cell_type": "code",
      "metadata": {
        "id": "KZ3rSwSUj9Qr"
      },
      "source": [
        "inputs, labels = data[0].to(device), data[1].to(device)"
      ],
      "execution_count": 55,
      "outputs": []
    },
    {
      "cell_type": "markdown",
      "metadata": {
        "id": "w6stHa06j9Qt"
      },
      "source": [
        "为什么我没有看到 GPU 比 CPU 快很多呢？因为你的网络实在是太小了。  \n",
        "#### 练习：  \n",
        "尝试增加网络的宽度（第一个 `nn.Conv2d` 的第 2 个参数）以及第二个 `nn.Conv2d` 的第 1 个参数。他们需要相同的数字) ，看看切换到 GPU 上可以加速多少。  \n",
        "\n",
        "#### 达成的目标：  \n",
        "- 从高层次理解 PyTorch 的张量库和神经网络\n",
        "- 训练一个小型神经网络来分类图像"
      ]
    },
    {
      "cell_type": "markdown",
      "metadata": {
        "id": "40uWqclij9Qt"
      },
      "source": [
        "---"
      ]
    },
    {
      "cell_type": "markdown",
      "metadata": {
        "id": "B6imsofAj9Qu"
      },
      "source": [
        "## 在多个 GPU 上训练"
      ]
    },
    {
      "cell_type": "markdown",
      "metadata": {
        "id": "7tGpTtIoj9Qu"
      },
      "source": [
        "如果你想使用所有的 gpu 实现更大规模的加速，请查看可选项：[数据并行](https://pytorch.org/tutorials/beginner/blitz/data_parallel_tutorial.html)"
      ]
    }
  ]
}